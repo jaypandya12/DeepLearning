{
  "nbformat": 4,
  "nbformat_minor": 0,
  "metadata": {
    "colab": {
      "name": "Deep Learning 2",
      "provenance": [],
      "collapsed_sections": []
    },
    "kernelspec": {
      "name": "python3",
      "display_name": "Python 3"
    }
  },
  "cells": [
    {
      "cell_type": "markdown",
      "metadata": {
        "id": "1ObiHgJtXiHX",
        "colab_type": "text"
      },
      "source": [
        "## Loading Data"
      ]
    },
    {
      "cell_type": "code",
      "metadata": {
        "id": "ptSQSjfQXKJ5",
        "colab_type": "code",
        "colab": {}
      },
      "source": [
        "import sklearn.datasets\n",
        "import numpy as np"
      ],
      "execution_count": 0,
      "outputs": []
    },
    {
      "cell_type": "code",
      "metadata": {
        "id": "9mSWz-7AXGf8",
        "colab_type": "code",
        "colab": {}
      },
      "source": [
        "breast_cancer = sklearn.datasets.load_breast_cancer()"
      ],
      "execution_count": 0,
      "outputs": []
    },
    {
      "cell_type": "code",
      "metadata": {
        "id": "jClHu9BDXdXV",
        "colab_type": "code",
        "colab": {}
      },
      "source": [
        "X = breast_cancer.data\n",
        "Y = breast_cancer.target"
      ],
      "execution_count": 0,
      "outputs": []
    },
    {
      "cell_type": "code",
      "metadata": {
        "id": "CgwWlYO3Xp9b",
        "colab_type": "code",
        "outputId": "c23afc97-ab4c-4390-8216-929f32cba86e",
        "colab": {
          "base_uri": "https://localhost:8080/",
          "height": 408
        }
      },
      "source": [
        "print(X)\n",
        "print(Y)"
      ],
      "execution_count": 0,
      "outputs": [
        {
          "output_type": "stream",
          "text": [
            "[[1.799e+01 1.038e+01 1.228e+02 ... 2.654e-01 4.601e-01 1.189e-01]\n",
            " [2.057e+01 1.777e+01 1.329e+02 ... 1.860e-01 2.750e-01 8.902e-02]\n",
            " [1.969e+01 2.125e+01 1.300e+02 ... 2.430e-01 3.613e-01 8.758e-02]\n",
            " ...\n",
            " [1.660e+01 2.808e+01 1.083e+02 ... 1.418e-01 2.218e-01 7.820e-02]\n",
            " [2.060e+01 2.933e+01 1.401e+02 ... 2.650e-01 4.087e-01 1.240e-01]\n",
            " [7.760e+00 2.454e+01 4.792e+01 ... 0.000e+00 2.871e-01 7.039e-02]]\n",
            "[0 0 0 0 0 0 0 0 0 0 0 0 0 0 0 0 0 0 0 1 1 1 0 0 0 0 0 0 0 0 0 0 0 0 0 0 0\n",
            " 1 0 0 0 0 0 0 0 0 1 0 1 1 1 1 1 0 0 1 0 0 1 1 1 1 0 1 0 0 1 1 1 1 0 1 0 0\n",
            " 1 0 1 0 0 1 1 1 0 0 1 0 0 0 1 1 1 0 1 1 0 0 1 1 1 0 0 1 1 1 1 0 1 1 0 1 1\n",
            " 1 1 1 1 1 1 0 0 0 1 0 0 1 1 1 0 0 1 0 1 0 0 1 0 0 1 1 0 1 1 0 1 1 1 1 0 1\n",
            " 1 1 1 1 1 1 1 1 0 1 1 1 1 0 0 1 0 1 1 0 0 1 1 0 0 1 1 1 1 0 1 1 0 0 0 1 0\n",
            " 1 0 1 1 1 0 1 1 0 0 1 0 0 0 0 1 0 0 0 1 0 1 0 1 1 0 1 0 0 0 0 1 1 0 0 1 1\n",
            " 1 0 1 1 1 1 1 0 0 1 1 0 1 1 0 0 1 0 1 1 1 1 0 1 1 1 1 1 0 1 0 0 0 0 0 0 0\n",
            " 0 0 0 0 0 0 0 1 1 1 1 1 1 0 1 0 1 1 0 1 1 0 1 0 0 1 1 1 1 1 1 1 1 1 1 1 1\n",
            " 1 0 1 1 0 1 0 1 1 1 1 1 1 1 1 1 1 1 1 1 1 0 1 1 1 0 1 0 1 1 1 1 0 0 0 1 1\n",
            " 1 1 0 1 0 1 0 1 1 1 0 1 1 1 1 1 1 1 0 0 0 1 1 1 1 1 1 1 1 1 1 1 0 0 1 0 0\n",
            " 0 1 0 0 1 1 1 1 1 0 1 1 1 1 1 0 1 1 1 0 1 1 0 0 1 1 1 1 1 1 0 1 1 1 1 1 1\n",
            " 1 0 1 1 1 1 1 0 1 1 0 1 1 1 1 1 1 1 1 1 1 1 1 0 1 0 0 1 0 1 1 1 1 1 0 1 1\n",
            " 0 1 0 1 1 0 1 0 1 1 1 1 1 1 1 1 0 0 1 1 1 1 1 1 0 1 1 1 1 1 1 1 1 1 1 0 1\n",
            " 1 1 1 1 1 1 0 1 0 1 1 0 1 1 1 1 1 0 0 1 0 1 0 1 1 1 1 1 0 1 1 0 1 0 1 0 0\n",
            " 1 1 1 0 1 1 1 1 1 1 1 1 1 1 1 0 1 0 0 1 1 1 1 1 1 1 1 1 1 1 1 1 1 1 1 1 1\n",
            " 1 1 1 1 1 1 1 0 0 0 0 0 0 1]\n"
          ],
          "name": "stdout"
        }
      ]
    },
    {
      "cell_type": "code",
      "metadata": {
        "id": "DM4ODrITXq5V",
        "colab_type": "code",
        "outputId": "6fdc1cbf-58c3-4219-a9e8-475560a84750",
        "colab": {
          "base_uri": "https://localhost:8080/",
          "height": 34
        }
      },
      "source": [
        "print(X.shape, Y.shape)"
      ],
      "execution_count": 0,
      "outputs": [
        {
          "output_type": "stream",
          "text": [
            "(569, 30) (569,)\n"
          ],
          "name": "stdout"
        }
      ]
    },
    {
      "cell_type": "code",
      "metadata": {
        "id": "a8MQQy8pXzuK",
        "colab_type": "code",
        "colab": {}
      },
      "source": [
        "import pandas as pd"
      ],
      "execution_count": 0,
      "outputs": []
    },
    {
      "cell_type": "code",
      "metadata": {
        "id": "I32RWSzkX3Xt",
        "colab_type": "code",
        "colab": {}
      },
      "source": [
        "data = pd.DataFrame(breast_cancer.data, columns=breast_cancer.feature_names)"
      ],
      "execution_count": 0,
      "outputs": []
    },
    {
      "cell_type": "code",
      "metadata": {
        "id": "aivw0OlhYWAr",
        "colab_type": "code",
        "colab": {}
      },
      "source": [
        "data['class'] = breast_cancer.target"
      ],
      "execution_count": 0,
      "outputs": []
    },
    {
      "cell_type": "code",
      "metadata": {
        "id": "e5TvtKZcYEyc",
        "colab_type": "code",
        "outputId": "74594cd9-7319-454f-f102-cfb9f8241221",
        "colab": {
          "base_uri": "https://localhost:8080/",
          "height": 258
        }
      },
      "source": [
        "data.head()"
      ],
      "execution_count": 0,
      "outputs": [
        {
          "output_type": "execute_result",
          "data": {
            "text/html": [
              "<div>\n",
              "<style scoped>\n",
              "    .dataframe tbody tr th:only-of-type {\n",
              "        vertical-align: middle;\n",
              "    }\n",
              "\n",
              "    .dataframe tbody tr th {\n",
              "        vertical-align: top;\n",
              "    }\n",
              "\n",
              "    .dataframe thead th {\n",
              "        text-align: right;\n",
              "    }\n",
              "</style>\n",
              "<table border=\"1\" class=\"dataframe\">\n",
              "  <thead>\n",
              "    <tr style=\"text-align: right;\">\n",
              "      <th></th>\n",
              "      <th>mean radius</th>\n",
              "      <th>mean texture</th>\n",
              "      <th>mean perimeter</th>\n",
              "      <th>mean area</th>\n",
              "      <th>mean smoothness</th>\n",
              "      <th>mean compactness</th>\n",
              "      <th>mean concavity</th>\n",
              "      <th>mean concave points</th>\n",
              "      <th>mean symmetry</th>\n",
              "      <th>mean fractal dimension</th>\n",
              "      <th>radius error</th>\n",
              "      <th>texture error</th>\n",
              "      <th>perimeter error</th>\n",
              "      <th>area error</th>\n",
              "      <th>smoothness error</th>\n",
              "      <th>compactness error</th>\n",
              "      <th>concavity error</th>\n",
              "      <th>concave points error</th>\n",
              "      <th>symmetry error</th>\n",
              "      <th>fractal dimension error</th>\n",
              "      <th>worst radius</th>\n",
              "      <th>worst texture</th>\n",
              "      <th>worst perimeter</th>\n",
              "      <th>worst area</th>\n",
              "      <th>worst smoothness</th>\n",
              "      <th>worst compactness</th>\n",
              "      <th>worst concavity</th>\n",
              "      <th>worst concave points</th>\n",
              "      <th>worst symmetry</th>\n",
              "      <th>worst fractal dimension</th>\n",
              "      <th>class</th>\n",
              "    </tr>\n",
              "  </thead>\n",
              "  <tbody>\n",
              "    <tr>\n",
              "      <th>0</th>\n",
              "      <td>17.99</td>\n",
              "      <td>10.38</td>\n",
              "      <td>122.80</td>\n",
              "      <td>1001.0</td>\n",
              "      <td>0.11840</td>\n",
              "      <td>0.27760</td>\n",
              "      <td>0.3001</td>\n",
              "      <td>0.14710</td>\n",
              "      <td>0.2419</td>\n",
              "      <td>0.07871</td>\n",
              "      <td>1.0950</td>\n",
              "      <td>0.9053</td>\n",
              "      <td>8.589</td>\n",
              "      <td>153.40</td>\n",
              "      <td>0.006399</td>\n",
              "      <td>0.04904</td>\n",
              "      <td>0.05373</td>\n",
              "      <td>0.01587</td>\n",
              "      <td>0.03003</td>\n",
              "      <td>0.006193</td>\n",
              "      <td>25.38</td>\n",
              "      <td>17.33</td>\n",
              "      <td>184.60</td>\n",
              "      <td>2019.0</td>\n",
              "      <td>0.1622</td>\n",
              "      <td>0.6656</td>\n",
              "      <td>0.7119</td>\n",
              "      <td>0.2654</td>\n",
              "      <td>0.4601</td>\n",
              "      <td>0.11890</td>\n",
              "      <td>0</td>\n",
              "    </tr>\n",
              "    <tr>\n",
              "      <th>1</th>\n",
              "      <td>20.57</td>\n",
              "      <td>17.77</td>\n",
              "      <td>132.90</td>\n",
              "      <td>1326.0</td>\n",
              "      <td>0.08474</td>\n",
              "      <td>0.07864</td>\n",
              "      <td>0.0869</td>\n",
              "      <td>0.07017</td>\n",
              "      <td>0.1812</td>\n",
              "      <td>0.05667</td>\n",
              "      <td>0.5435</td>\n",
              "      <td>0.7339</td>\n",
              "      <td>3.398</td>\n",
              "      <td>74.08</td>\n",
              "      <td>0.005225</td>\n",
              "      <td>0.01308</td>\n",
              "      <td>0.01860</td>\n",
              "      <td>0.01340</td>\n",
              "      <td>0.01389</td>\n",
              "      <td>0.003532</td>\n",
              "      <td>24.99</td>\n",
              "      <td>23.41</td>\n",
              "      <td>158.80</td>\n",
              "      <td>1956.0</td>\n",
              "      <td>0.1238</td>\n",
              "      <td>0.1866</td>\n",
              "      <td>0.2416</td>\n",
              "      <td>0.1860</td>\n",
              "      <td>0.2750</td>\n",
              "      <td>0.08902</td>\n",
              "      <td>0</td>\n",
              "    </tr>\n",
              "    <tr>\n",
              "      <th>2</th>\n",
              "      <td>19.69</td>\n",
              "      <td>21.25</td>\n",
              "      <td>130.00</td>\n",
              "      <td>1203.0</td>\n",
              "      <td>0.10960</td>\n",
              "      <td>0.15990</td>\n",
              "      <td>0.1974</td>\n",
              "      <td>0.12790</td>\n",
              "      <td>0.2069</td>\n",
              "      <td>0.05999</td>\n",
              "      <td>0.7456</td>\n",
              "      <td>0.7869</td>\n",
              "      <td>4.585</td>\n",
              "      <td>94.03</td>\n",
              "      <td>0.006150</td>\n",
              "      <td>0.04006</td>\n",
              "      <td>0.03832</td>\n",
              "      <td>0.02058</td>\n",
              "      <td>0.02250</td>\n",
              "      <td>0.004571</td>\n",
              "      <td>23.57</td>\n",
              "      <td>25.53</td>\n",
              "      <td>152.50</td>\n",
              "      <td>1709.0</td>\n",
              "      <td>0.1444</td>\n",
              "      <td>0.4245</td>\n",
              "      <td>0.4504</td>\n",
              "      <td>0.2430</td>\n",
              "      <td>0.3613</td>\n",
              "      <td>0.08758</td>\n",
              "      <td>0</td>\n",
              "    </tr>\n",
              "    <tr>\n",
              "      <th>3</th>\n",
              "      <td>11.42</td>\n",
              "      <td>20.38</td>\n",
              "      <td>77.58</td>\n",
              "      <td>386.1</td>\n",
              "      <td>0.14250</td>\n",
              "      <td>0.28390</td>\n",
              "      <td>0.2414</td>\n",
              "      <td>0.10520</td>\n",
              "      <td>0.2597</td>\n",
              "      <td>0.09744</td>\n",
              "      <td>0.4956</td>\n",
              "      <td>1.1560</td>\n",
              "      <td>3.445</td>\n",
              "      <td>27.23</td>\n",
              "      <td>0.009110</td>\n",
              "      <td>0.07458</td>\n",
              "      <td>0.05661</td>\n",
              "      <td>0.01867</td>\n",
              "      <td>0.05963</td>\n",
              "      <td>0.009208</td>\n",
              "      <td>14.91</td>\n",
              "      <td>26.50</td>\n",
              "      <td>98.87</td>\n",
              "      <td>567.7</td>\n",
              "      <td>0.2098</td>\n",
              "      <td>0.8663</td>\n",
              "      <td>0.6869</td>\n",
              "      <td>0.2575</td>\n",
              "      <td>0.6638</td>\n",
              "      <td>0.17300</td>\n",
              "      <td>0</td>\n",
              "    </tr>\n",
              "    <tr>\n",
              "      <th>4</th>\n",
              "      <td>20.29</td>\n",
              "      <td>14.34</td>\n",
              "      <td>135.10</td>\n",
              "      <td>1297.0</td>\n",
              "      <td>0.10030</td>\n",
              "      <td>0.13280</td>\n",
              "      <td>0.1980</td>\n",
              "      <td>0.10430</td>\n",
              "      <td>0.1809</td>\n",
              "      <td>0.05883</td>\n",
              "      <td>0.7572</td>\n",
              "      <td>0.7813</td>\n",
              "      <td>5.438</td>\n",
              "      <td>94.44</td>\n",
              "      <td>0.011490</td>\n",
              "      <td>0.02461</td>\n",
              "      <td>0.05688</td>\n",
              "      <td>0.01885</td>\n",
              "      <td>0.01756</td>\n",
              "      <td>0.005115</td>\n",
              "      <td>22.54</td>\n",
              "      <td>16.67</td>\n",
              "      <td>152.20</td>\n",
              "      <td>1575.0</td>\n",
              "      <td>0.1374</td>\n",
              "      <td>0.2050</td>\n",
              "      <td>0.4000</td>\n",
              "      <td>0.1625</td>\n",
              "      <td>0.2364</td>\n",
              "      <td>0.07678</td>\n",
              "      <td>0</td>\n",
              "    </tr>\n",
              "  </tbody>\n",
              "</table>\n",
              "</div>"
            ],
            "text/plain": [
              "   mean radius  mean texture  ...  worst fractal dimension  class\n",
              "0        17.99         10.38  ...                  0.11890      0\n",
              "1        20.57         17.77  ...                  0.08902      0\n",
              "2        19.69         21.25  ...                  0.08758      0\n",
              "3        11.42         20.38  ...                  0.17300      0\n",
              "4        20.29         14.34  ...                  0.07678      0\n",
              "\n",
              "[5 rows x 31 columns]"
            ]
          },
          "metadata": {
            "tags": []
          },
          "execution_count": 68
        }
      ]
    },
    {
      "cell_type": "code",
      "metadata": {
        "id": "7pc5ZVvUYG4V",
        "colab_type": "code",
        "outputId": "9bb6ce42-99ee-40a4-e7ba-a74fb2b72598",
        "colab": {
          "base_uri": "https://localhost:8080/",
          "height": 351
        }
      },
      "source": [
        "data.describe()"
      ],
      "execution_count": 0,
      "outputs": [
        {
          "output_type": "execute_result",
          "data": {
            "text/html": [
              "<div>\n",
              "<style scoped>\n",
              "    .dataframe tbody tr th:only-of-type {\n",
              "        vertical-align: middle;\n",
              "    }\n",
              "\n",
              "    .dataframe tbody tr th {\n",
              "        vertical-align: top;\n",
              "    }\n",
              "\n",
              "    .dataframe thead th {\n",
              "        text-align: right;\n",
              "    }\n",
              "</style>\n",
              "<table border=\"1\" class=\"dataframe\">\n",
              "  <thead>\n",
              "    <tr style=\"text-align: right;\">\n",
              "      <th></th>\n",
              "      <th>mean radius</th>\n",
              "      <th>mean texture</th>\n",
              "      <th>mean perimeter</th>\n",
              "      <th>mean area</th>\n",
              "      <th>mean smoothness</th>\n",
              "      <th>mean compactness</th>\n",
              "      <th>mean concavity</th>\n",
              "      <th>mean concave points</th>\n",
              "      <th>mean symmetry</th>\n",
              "      <th>mean fractal dimension</th>\n",
              "      <th>radius error</th>\n",
              "      <th>texture error</th>\n",
              "      <th>perimeter error</th>\n",
              "      <th>area error</th>\n",
              "      <th>smoothness error</th>\n",
              "      <th>compactness error</th>\n",
              "      <th>concavity error</th>\n",
              "      <th>concave points error</th>\n",
              "      <th>symmetry error</th>\n",
              "      <th>fractal dimension error</th>\n",
              "      <th>worst radius</th>\n",
              "      <th>worst texture</th>\n",
              "      <th>worst perimeter</th>\n",
              "      <th>worst area</th>\n",
              "      <th>worst smoothness</th>\n",
              "      <th>worst compactness</th>\n",
              "      <th>worst concavity</th>\n",
              "      <th>worst concave points</th>\n",
              "      <th>worst symmetry</th>\n",
              "      <th>worst fractal dimension</th>\n",
              "      <th>class</th>\n",
              "    </tr>\n",
              "  </thead>\n",
              "  <tbody>\n",
              "    <tr>\n",
              "      <th>count</th>\n",
              "      <td>569.000000</td>\n",
              "      <td>569.000000</td>\n",
              "      <td>569.000000</td>\n",
              "      <td>569.000000</td>\n",
              "      <td>569.000000</td>\n",
              "      <td>569.000000</td>\n",
              "      <td>569.000000</td>\n",
              "      <td>569.000000</td>\n",
              "      <td>569.000000</td>\n",
              "      <td>569.000000</td>\n",
              "      <td>569.000000</td>\n",
              "      <td>569.000000</td>\n",
              "      <td>569.000000</td>\n",
              "      <td>569.000000</td>\n",
              "      <td>569.000000</td>\n",
              "      <td>569.000000</td>\n",
              "      <td>569.000000</td>\n",
              "      <td>569.000000</td>\n",
              "      <td>569.000000</td>\n",
              "      <td>569.000000</td>\n",
              "      <td>569.000000</td>\n",
              "      <td>569.000000</td>\n",
              "      <td>569.000000</td>\n",
              "      <td>569.000000</td>\n",
              "      <td>569.000000</td>\n",
              "      <td>569.000000</td>\n",
              "      <td>569.000000</td>\n",
              "      <td>569.000000</td>\n",
              "      <td>569.000000</td>\n",
              "      <td>569.000000</td>\n",
              "      <td>569.000000</td>\n",
              "    </tr>\n",
              "    <tr>\n",
              "      <th>mean</th>\n",
              "      <td>14.127292</td>\n",
              "      <td>19.289649</td>\n",
              "      <td>91.969033</td>\n",
              "      <td>654.889104</td>\n",
              "      <td>0.096360</td>\n",
              "      <td>0.104341</td>\n",
              "      <td>0.088799</td>\n",
              "      <td>0.048919</td>\n",
              "      <td>0.181162</td>\n",
              "      <td>0.062798</td>\n",
              "      <td>0.405172</td>\n",
              "      <td>1.216853</td>\n",
              "      <td>2.866059</td>\n",
              "      <td>40.337079</td>\n",
              "      <td>0.007041</td>\n",
              "      <td>0.025478</td>\n",
              "      <td>0.031894</td>\n",
              "      <td>0.011796</td>\n",
              "      <td>0.020542</td>\n",
              "      <td>0.003795</td>\n",
              "      <td>16.269190</td>\n",
              "      <td>25.677223</td>\n",
              "      <td>107.261213</td>\n",
              "      <td>880.583128</td>\n",
              "      <td>0.132369</td>\n",
              "      <td>0.254265</td>\n",
              "      <td>0.272188</td>\n",
              "      <td>0.114606</td>\n",
              "      <td>0.290076</td>\n",
              "      <td>0.083946</td>\n",
              "      <td>0.627417</td>\n",
              "    </tr>\n",
              "    <tr>\n",
              "      <th>std</th>\n",
              "      <td>3.524049</td>\n",
              "      <td>4.301036</td>\n",
              "      <td>24.298981</td>\n",
              "      <td>351.914129</td>\n",
              "      <td>0.014064</td>\n",
              "      <td>0.052813</td>\n",
              "      <td>0.079720</td>\n",
              "      <td>0.038803</td>\n",
              "      <td>0.027414</td>\n",
              "      <td>0.007060</td>\n",
              "      <td>0.277313</td>\n",
              "      <td>0.551648</td>\n",
              "      <td>2.021855</td>\n",
              "      <td>45.491006</td>\n",
              "      <td>0.003003</td>\n",
              "      <td>0.017908</td>\n",
              "      <td>0.030186</td>\n",
              "      <td>0.006170</td>\n",
              "      <td>0.008266</td>\n",
              "      <td>0.002646</td>\n",
              "      <td>4.833242</td>\n",
              "      <td>6.146258</td>\n",
              "      <td>33.602542</td>\n",
              "      <td>569.356993</td>\n",
              "      <td>0.022832</td>\n",
              "      <td>0.157336</td>\n",
              "      <td>0.208624</td>\n",
              "      <td>0.065732</td>\n",
              "      <td>0.061867</td>\n",
              "      <td>0.018061</td>\n",
              "      <td>0.483918</td>\n",
              "    </tr>\n",
              "    <tr>\n",
              "      <th>min</th>\n",
              "      <td>6.981000</td>\n",
              "      <td>9.710000</td>\n",
              "      <td>43.790000</td>\n",
              "      <td>143.500000</td>\n",
              "      <td>0.052630</td>\n",
              "      <td>0.019380</td>\n",
              "      <td>0.000000</td>\n",
              "      <td>0.000000</td>\n",
              "      <td>0.106000</td>\n",
              "      <td>0.049960</td>\n",
              "      <td>0.111500</td>\n",
              "      <td>0.360200</td>\n",
              "      <td>0.757000</td>\n",
              "      <td>6.802000</td>\n",
              "      <td>0.001713</td>\n",
              "      <td>0.002252</td>\n",
              "      <td>0.000000</td>\n",
              "      <td>0.000000</td>\n",
              "      <td>0.007882</td>\n",
              "      <td>0.000895</td>\n",
              "      <td>7.930000</td>\n",
              "      <td>12.020000</td>\n",
              "      <td>50.410000</td>\n",
              "      <td>185.200000</td>\n",
              "      <td>0.071170</td>\n",
              "      <td>0.027290</td>\n",
              "      <td>0.000000</td>\n",
              "      <td>0.000000</td>\n",
              "      <td>0.156500</td>\n",
              "      <td>0.055040</td>\n",
              "      <td>0.000000</td>\n",
              "    </tr>\n",
              "    <tr>\n",
              "      <th>25%</th>\n",
              "      <td>11.700000</td>\n",
              "      <td>16.170000</td>\n",
              "      <td>75.170000</td>\n",
              "      <td>420.300000</td>\n",
              "      <td>0.086370</td>\n",
              "      <td>0.064920</td>\n",
              "      <td>0.029560</td>\n",
              "      <td>0.020310</td>\n",
              "      <td>0.161900</td>\n",
              "      <td>0.057700</td>\n",
              "      <td>0.232400</td>\n",
              "      <td>0.833900</td>\n",
              "      <td>1.606000</td>\n",
              "      <td>17.850000</td>\n",
              "      <td>0.005169</td>\n",
              "      <td>0.013080</td>\n",
              "      <td>0.015090</td>\n",
              "      <td>0.007638</td>\n",
              "      <td>0.015160</td>\n",
              "      <td>0.002248</td>\n",
              "      <td>13.010000</td>\n",
              "      <td>21.080000</td>\n",
              "      <td>84.110000</td>\n",
              "      <td>515.300000</td>\n",
              "      <td>0.116600</td>\n",
              "      <td>0.147200</td>\n",
              "      <td>0.114500</td>\n",
              "      <td>0.064930</td>\n",
              "      <td>0.250400</td>\n",
              "      <td>0.071460</td>\n",
              "      <td>0.000000</td>\n",
              "    </tr>\n",
              "    <tr>\n",
              "      <th>50%</th>\n",
              "      <td>13.370000</td>\n",
              "      <td>18.840000</td>\n",
              "      <td>86.240000</td>\n",
              "      <td>551.100000</td>\n",
              "      <td>0.095870</td>\n",
              "      <td>0.092630</td>\n",
              "      <td>0.061540</td>\n",
              "      <td>0.033500</td>\n",
              "      <td>0.179200</td>\n",
              "      <td>0.061540</td>\n",
              "      <td>0.324200</td>\n",
              "      <td>1.108000</td>\n",
              "      <td>2.287000</td>\n",
              "      <td>24.530000</td>\n",
              "      <td>0.006380</td>\n",
              "      <td>0.020450</td>\n",
              "      <td>0.025890</td>\n",
              "      <td>0.010930</td>\n",
              "      <td>0.018730</td>\n",
              "      <td>0.003187</td>\n",
              "      <td>14.970000</td>\n",
              "      <td>25.410000</td>\n",
              "      <td>97.660000</td>\n",
              "      <td>686.500000</td>\n",
              "      <td>0.131300</td>\n",
              "      <td>0.211900</td>\n",
              "      <td>0.226700</td>\n",
              "      <td>0.099930</td>\n",
              "      <td>0.282200</td>\n",
              "      <td>0.080040</td>\n",
              "      <td>1.000000</td>\n",
              "    </tr>\n",
              "    <tr>\n",
              "      <th>75%</th>\n",
              "      <td>15.780000</td>\n",
              "      <td>21.800000</td>\n",
              "      <td>104.100000</td>\n",
              "      <td>782.700000</td>\n",
              "      <td>0.105300</td>\n",
              "      <td>0.130400</td>\n",
              "      <td>0.130700</td>\n",
              "      <td>0.074000</td>\n",
              "      <td>0.195700</td>\n",
              "      <td>0.066120</td>\n",
              "      <td>0.478900</td>\n",
              "      <td>1.474000</td>\n",
              "      <td>3.357000</td>\n",
              "      <td>45.190000</td>\n",
              "      <td>0.008146</td>\n",
              "      <td>0.032450</td>\n",
              "      <td>0.042050</td>\n",
              "      <td>0.014710</td>\n",
              "      <td>0.023480</td>\n",
              "      <td>0.004558</td>\n",
              "      <td>18.790000</td>\n",
              "      <td>29.720000</td>\n",
              "      <td>125.400000</td>\n",
              "      <td>1084.000000</td>\n",
              "      <td>0.146000</td>\n",
              "      <td>0.339100</td>\n",
              "      <td>0.382900</td>\n",
              "      <td>0.161400</td>\n",
              "      <td>0.317900</td>\n",
              "      <td>0.092080</td>\n",
              "      <td>1.000000</td>\n",
              "    </tr>\n",
              "    <tr>\n",
              "      <th>max</th>\n",
              "      <td>28.110000</td>\n",
              "      <td>39.280000</td>\n",
              "      <td>188.500000</td>\n",
              "      <td>2501.000000</td>\n",
              "      <td>0.163400</td>\n",
              "      <td>0.345400</td>\n",
              "      <td>0.426800</td>\n",
              "      <td>0.201200</td>\n",
              "      <td>0.304000</td>\n",
              "      <td>0.097440</td>\n",
              "      <td>2.873000</td>\n",
              "      <td>4.885000</td>\n",
              "      <td>21.980000</td>\n",
              "      <td>542.200000</td>\n",
              "      <td>0.031130</td>\n",
              "      <td>0.135400</td>\n",
              "      <td>0.396000</td>\n",
              "      <td>0.052790</td>\n",
              "      <td>0.078950</td>\n",
              "      <td>0.029840</td>\n",
              "      <td>36.040000</td>\n",
              "      <td>49.540000</td>\n",
              "      <td>251.200000</td>\n",
              "      <td>4254.000000</td>\n",
              "      <td>0.222600</td>\n",
              "      <td>1.058000</td>\n",
              "      <td>1.252000</td>\n",
              "      <td>0.291000</td>\n",
              "      <td>0.663800</td>\n",
              "      <td>0.207500</td>\n",
              "      <td>1.000000</td>\n",
              "    </tr>\n",
              "  </tbody>\n",
              "</table>\n",
              "</div>"
            ],
            "text/plain": [
              "       mean radius  mean texture  ...  worst fractal dimension       class\n",
              "count   569.000000    569.000000  ...               569.000000  569.000000\n",
              "mean     14.127292     19.289649  ...                 0.083946    0.627417\n",
              "std       3.524049      4.301036  ...                 0.018061    0.483918\n",
              "min       6.981000      9.710000  ...                 0.055040    0.000000\n",
              "25%      11.700000     16.170000  ...                 0.071460    0.000000\n",
              "50%      13.370000     18.840000  ...                 0.080040    1.000000\n",
              "75%      15.780000     21.800000  ...                 0.092080    1.000000\n",
              "max      28.110000     39.280000  ...                 0.207500    1.000000\n",
              "\n",
              "[8 rows x 31 columns]"
            ]
          },
          "metadata": {
            "tags": []
          },
          "execution_count": 69
        }
      ]
    },
    {
      "cell_type": "code",
      "metadata": {
        "id": "p9AZtJncYRWQ",
        "colab_type": "code",
        "outputId": "4cfe57e2-a81b-437c-ef50-dc73f5bc8abd",
        "colab": {
          "base_uri": "https://localhost:8080/",
          "height": 68
        }
      },
      "source": [
        "print(data['class'].value_counts())"
      ],
      "execution_count": 0,
      "outputs": [
        {
          "output_type": "stream",
          "text": [
            "1    357\n",
            "0    212\n",
            "Name: class, dtype: int64\n"
          ],
          "name": "stdout"
        }
      ]
    },
    {
      "cell_type": "code",
      "metadata": {
        "id": "ZponLomfYt8I",
        "colab_type": "code",
        "outputId": "31f62c99-d157-4bf4-e69b-39ab78589623",
        "colab": {
          "base_uri": "https://localhost:8080/",
          "height": 34
        }
      },
      "source": [
        "print(breast_cancer.target_names)"
      ],
      "execution_count": 0,
      "outputs": [
        {
          "output_type": "stream",
          "text": [
            "['malignant' 'benign']\n"
          ],
          "name": "stdout"
        }
      ]
    },
    {
      "cell_type": "code",
      "metadata": {
        "id": "Ld-c4BN_Y1gm",
        "colab_type": "code",
        "outputId": "d4e38e61-7c99-4e20-8bb8-0223d74671a5",
        "colab": {
          "base_uri": "https://localhost:8080/",
          "height": 196
        }
      },
      "source": [
        "data.groupby('class').mean()"
      ],
      "execution_count": 0,
      "outputs": [
        {
          "output_type": "execute_result",
          "data": {
            "text/html": [
              "<div>\n",
              "<style scoped>\n",
              "    .dataframe tbody tr th:only-of-type {\n",
              "        vertical-align: middle;\n",
              "    }\n",
              "\n",
              "    .dataframe tbody tr th {\n",
              "        vertical-align: top;\n",
              "    }\n",
              "\n",
              "    .dataframe thead th {\n",
              "        text-align: right;\n",
              "    }\n",
              "</style>\n",
              "<table border=\"1\" class=\"dataframe\">\n",
              "  <thead>\n",
              "    <tr style=\"text-align: right;\">\n",
              "      <th></th>\n",
              "      <th>mean radius</th>\n",
              "      <th>mean texture</th>\n",
              "      <th>mean perimeter</th>\n",
              "      <th>mean area</th>\n",
              "      <th>mean smoothness</th>\n",
              "      <th>mean compactness</th>\n",
              "      <th>mean concavity</th>\n",
              "      <th>mean concave points</th>\n",
              "      <th>mean symmetry</th>\n",
              "      <th>mean fractal dimension</th>\n",
              "      <th>radius error</th>\n",
              "      <th>texture error</th>\n",
              "      <th>perimeter error</th>\n",
              "      <th>area error</th>\n",
              "      <th>smoothness error</th>\n",
              "      <th>compactness error</th>\n",
              "      <th>concavity error</th>\n",
              "      <th>concave points error</th>\n",
              "      <th>symmetry error</th>\n",
              "      <th>fractal dimension error</th>\n",
              "      <th>worst radius</th>\n",
              "      <th>worst texture</th>\n",
              "      <th>worst perimeter</th>\n",
              "      <th>worst area</th>\n",
              "      <th>worst smoothness</th>\n",
              "      <th>worst compactness</th>\n",
              "      <th>worst concavity</th>\n",
              "      <th>worst concave points</th>\n",
              "      <th>worst symmetry</th>\n",
              "      <th>worst fractal dimension</th>\n",
              "    </tr>\n",
              "    <tr>\n",
              "      <th>class</th>\n",
              "      <th></th>\n",
              "      <th></th>\n",
              "      <th></th>\n",
              "      <th></th>\n",
              "      <th></th>\n",
              "      <th></th>\n",
              "      <th></th>\n",
              "      <th></th>\n",
              "      <th></th>\n",
              "      <th></th>\n",
              "      <th></th>\n",
              "      <th></th>\n",
              "      <th></th>\n",
              "      <th></th>\n",
              "      <th></th>\n",
              "      <th></th>\n",
              "      <th></th>\n",
              "      <th></th>\n",
              "      <th></th>\n",
              "      <th></th>\n",
              "      <th></th>\n",
              "      <th></th>\n",
              "      <th></th>\n",
              "      <th></th>\n",
              "      <th></th>\n",
              "      <th></th>\n",
              "      <th></th>\n",
              "      <th></th>\n",
              "      <th></th>\n",
              "      <th></th>\n",
              "    </tr>\n",
              "  </thead>\n",
              "  <tbody>\n",
              "    <tr>\n",
              "      <th>0</th>\n",
              "      <td>17.462830</td>\n",
              "      <td>21.604906</td>\n",
              "      <td>115.365377</td>\n",
              "      <td>978.376415</td>\n",
              "      <td>0.102898</td>\n",
              "      <td>0.145188</td>\n",
              "      <td>0.160775</td>\n",
              "      <td>0.087990</td>\n",
              "      <td>0.192909</td>\n",
              "      <td>0.062680</td>\n",
              "      <td>0.609083</td>\n",
              "      <td>1.210915</td>\n",
              "      <td>4.323929</td>\n",
              "      <td>72.672406</td>\n",
              "      <td>0.006780</td>\n",
              "      <td>0.032281</td>\n",
              "      <td>0.041824</td>\n",
              "      <td>0.015060</td>\n",
              "      <td>0.020472</td>\n",
              "      <td>0.004062</td>\n",
              "      <td>21.134811</td>\n",
              "      <td>29.318208</td>\n",
              "      <td>141.370330</td>\n",
              "      <td>1422.286321</td>\n",
              "      <td>0.144845</td>\n",
              "      <td>0.374824</td>\n",
              "      <td>0.450606</td>\n",
              "      <td>0.182237</td>\n",
              "      <td>0.323468</td>\n",
              "      <td>0.091530</td>\n",
              "    </tr>\n",
              "    <tr>\n",
              "      <th>1</th>\n",
              "      <td>12.146524</td>\n",
              "      <td>17.914762</td>\n",
              "      <td>78.075406</td>\n",
              "      <td>462.790196</td>\n",
              "      <td>0.092478</td>\n",
              "      <td>0.080085</td>\n",
              "      <td>0.046058</td>\n",
              "      <td>0.025717</td>\n",
              "      <td>0.174186</td>\n",
              "      <td>0.062867</td>\n",
              "      <td>0.284082</td>\n",
              "      <td>1.220380</td>\n",
              "      <td>2.000321</td>\n",
              "      <td>21.135148</td>\n",
              "      <td>0.007196</td>\n",
              "      <td>0.021438</td>\n",
              "      <td>0.025997</td>\n",
              "      <td>0.009858</td>\n",
              "      <td>0.020584</td>\n",
              "      <td>0.003636</td>\n",
              "      <td>13.379801</td>\n",
              "      <td>23.515070</td>\n",
              "      <td>87.005938</td>\n",
              "      <td>558.899440</td>\n",
              "      <td>0.124959</td>\n",
              "      <td>0.182673</td>\n",
              "      <td>0.166238</td>\n",
              "      <td>0.074444</td>\n",
              "      <td>0.270246</td>\n",
              "      <td>0.079442</td>\n",
              "    </tr>\n",
              "  </tbody>\n",
              "</table>\n",
              "</div>"
            ],
            "text/plain": [
              "       mean radius  mean texture  ...  worst symmetry  worst fractal dimension\n",
              "class                             ...                                         \n",
              "0        17.462830     21.604906  ...        0.323468                 0.091530\n",
              "1        12.146524     17.914762  ...        0.270246                 0.079442\n",
              "\n",
              "[2 rows x 30 columns]"
            ]
          },
          "metadata": {
            "tags": []
          },
          "execution_count": 72
        }
      ]
    },
    {
      "cell_type": "markdown",
      "metadata": {
        "id": "BcLQ5wWZZYjC",
        "colab_type": "text"
      },
      "source": [
        "## Train-Test split"
      ]
    },
    {
      "cell_type": "code",
      "metadata": {
        "id": "L39WkHA-Y9me",
        "colab_type": "code",
        "colab": {}
      },
      "source": [
        "from sklearn.model_selection import train_test_split"
      ],
      "execution_count": 0,
      "outputs": []
    },
    {
      "cell_type": "code",
      "metadata": {
        "id": "AbR0uVYfZmux",
        "colab_type": "code",
        "colab": {}
      },
      "source": [
        "X = data.drop('class', axis=1)"
      ],
      "execution_count": 0,
      "outputs": []
    },
    {
      "cell_type": "code",
      "metadata": {
        "id": "B4KvRwxLZs2-",
        "colab_type": "code",
        "colab": {}
      },
      "source": [
        "Y = data['class']"
      ],
      "execution_count": 0,
      "outputs": []
    },
    {
      "cell_type": "code",
      "metadata": {
        "id": "_8YW1qxqZ2ZF",
        "colab_type": "code",
        "colab": {}
      },
      "source": [
        "X_train, X_test, Y_train, Y_test = train_test_split(X, Y)"
      ],
      "execution_count": 0,
      "outputs": []
    },
    {
      "cell_type": "code",
      "metadata": {
        "id": "IxjJNWe0aT6P",
        "colab_type": "code",
        "outputId": "6ff03970-c9ea-4542-81fa-a2e165ef7cb7",
        "colab": {
          "base_uri": "https://localhost:8080/",
          "height": 34
        }
      },
      "source": [
        "print(X.shape, X_train.shape, X_test.shape)"
      ],
      "execution_count": 0,
      "outputs": [
        {
          "output_type": "stream",
          "text": [
            "(569, 30) (426, 30) (143, 30)\n"
          ],
          "name": "stdout"
        }
      ]
    },
    {
      "cell_type": "code",
      "metadata": {
        "id": "6S6XZfXtaYkB",
        "colab_type": "code",
        "colab": {}
      },
      "source": [
        "X_train, X_test, Y_train, Y_test = train_test_split(X, Y, test_size = 0.1)"
      ],
      "execution_count": 0,
      "outputs": []
    },
    {
      "cell_type": "code",
      "metadata": {
        "id": "UcMeDimhal_l",
        "colab_type": "code",
        "outputId": "0b72e057-ea3e-444c-fb2f-b51b918c345f",
        "colab": {
          "base_uri": "https://localhost:8080/",
          "height": 34
        }
      },
      "source": [
        "print(X.shape, X_train.shape, X_test.shape)"
      ],
      "execution_count": 0,
      "outputs": [
        {
          "output_type": "stream",
          "text": [
            "(569, 30) (512, 30) (57, 30)\n"
          ],
          "name": "stdout"
        }
      ]
    },
    {
      "cell_type": "code",
      "metadata": {
        "id": "GxpPS0JVan7-",
        "colab_type": "code",
        "outputId": "829f9711-d298-4011-d372-c14dd68f8152",
        "colab": {
          "base_uri": "https://localhost:8080/",
          "height": 34
        }
      },
      "source": [
        "print(Y.shape, Y_train.shape, Y_test.shape)"
      ],
      "execution_count": 0,
      "outputs": [
        {
          "output_type": "stream",
          "text": [
            "(569,) (512,) (57,)\n"
          ],
          "name": "stdout"
        }
      ]
    },
    {
      "cell_type": "code",
      "metadata": {
        "id": "zTu40NTRarZC",
        "colab_type": "code",
        "outputId": "07d04e92-f6a8-49f2-91a5-0ecfc13de185",
        "colab": {
          "base_uri": "https://localhost:8080/",
          "height": 34
        }
      },
      "source": [
        "print(Y.mean(), Y_test.mean(), Y_train.mean())"
      ],
      "execution_count": 0,
      "outputs": [
        {
          "output_type": "stream",
          "text": [
            "0.6274165202108963 0.7192982456140351 0.6171875\n"
          ],
          "name": "stdout"
        }
      ]
    },
    {
      "cell_type": "code",
      "metadata": {
        "id": "TtZarUqKa3V2",
        "colab_type": "code",
        "colab": {}
      },
      "source": [
        "X_train, X_test, Y_train, Y_test = train_test_split(X, Y, test_size = 0.1, stratify = Y)"
      ],
      "execution_count": 0,
      "outputs": []
    },
    {
      "cell_type": "code",
      "metadata": {
        "id": "_ucXge9abPje",
        "colab_type": "code",
        "outputId": "e4888114-105a-4972-e4f4-a785edc8216f",
        "colab": {
          "base_uri": "https://localhost:8080/",
          "height": 34
        }
      },
      "source": [
        "print(Y.shape, Y_train.shape, Y_test.shape)"
      ],
      "execution_count": 0,
      "outputs": [
        {
          "output_type": "stream",
          "text": [
            "(569,) (512,) (57,)\n"
          ],
          "name": "stdout"
        }
      ]
    },
    {
      "cell_type": "code",
      "metadata": {
        "id": "Ax_z-4jAbRK2",
        "colab_type": "code",
        "outputId": "bed28a0c-589e-4563-df13-3e3aa61848e0",
        "colab": {
          "base_uri": "https://localhost:8080/",
          "height": 34
        }
      },
      "source": [
        "print(Y.mean(), Y_test.mean(), Y_train.mean())"
      ],
      "execution_count": 0,
      "outputs": [
        {
          "output_type": "stream",
          "text": [
            "0.6274165202108963 0.631578947368421 0.626953125\n"
          ],
          "name": "stdout"
        }
      ]
    },
    {
      "cell_type": "code",
      "metadata": {
        "id": "L5tViI3AbS47",
        "colab_type": "code",
        "outputId": "57f1c664-e599-4a25-cd07-def6feefd695",
        "colab": {
          "base_uri": "https://localhost:8080/",
          "height": 1000
        }
      },
      "source": [
        "print(X.mean(), X_test.mean(), X_train.mean())"
      ],
      "execution_count": 0,
      "outputs": [
        {
          "output_type": "stream",
          "text": [
            "mean radius                 14.127292\n",
            "mean texture                19.289649\n",
            "mean perimeter              91.969033\n",
            "mean area                  654.889104\n",
            "mean smoothness              0.096360\n",
            "mean compactness             0.104341\n",
            "mean concavity               0.088799\n",
            "mean concave points          0.048919\n",
            "mean symmetry                0.181162\n",
            "mean fractal dimension       0.062798\n",
            "radius error                 0.405172\n",
            "texture error                1.216853\n",
            "perimeter error              2.866059\n",
            "area error                  40.337079\n",
            "smoothness error             0.007041\n",
            "compactness error            0.025478\n",
            "concavity error              0.031894\n",
            "concave points error         0.011796\n",
            "symmetry error               0.020542\n",
            "fractal dimension error      0.003795\n",
            "worst radius                16.269190\n",
            "worst texture               25.677223\n",
            "worst perimeter            107.261213\n",
            "worst area                 880.583128\n",
            "worst smoothness             0.132369\n",
            "worst compactness            0.254265\n",
            "worst concavity              0.272188\n",
            "worst concave points         0.114606\n",
            "worst symmetry               0.290076\n",
            "worst fractal dimension      0.083946\n",
            "dtype: float64 mean radius                 13.528316\n",
            "mean texture                19.947018\n",
            "mean perimeter              88.251053\n",
            "mean area                  590.457895\n",
            "mean smoothness              0.099188\n",
            "mean compactness             0.114721\n",
            "mean concavity               0.092909\n",
            "mean concave points          0.049574\n",
            "mean symmetry                0.187254\n",
            "mean fractal dimension       0.065342\n",
            "radius error                 0.386344\n",
            "texture error                1.266712\n",
            "perimeter error              2.781430\n",
            "area error                  34.150000\n",
            "smoothness error             0.007684\n",
            "compactness error            0.028335\n",
            "concavity error              0.033154\n",
            "concave points error         0.012417\n",
            "symmetry error               0.022185\n",
            "fractal dimension error      0.004372\n",
            "worst radius                15.626947\n",
            "worst texture               26.432982\n",
            "worst perimeter            103.363333\n",
            "worst area                 793.482456\n",
            "worst smoothness             0.135834\n",
            "worst compactness            0.276542\n",
            "worst concavity              0.289406\n",
            "worst concave points         0.117999\n",
            "worst symmetry               0.298914\n",
            "worst fractal dimension      0.088905\n",
            "dtype: float64 mean radius                 14.193975\n",
            "mean texture                19.216465\n",
            "mean perimeter              92.382949\n",
            "mean area                  662.062109\n",
            "mean smoothness              0.096045\n",
            "mean compactness             0.103185\n",
            "mean concavity               0.088342\n",
            "mean concave points          0.048846\n",
            "mean symmetry                0.180484\n",
            "mean fractal dimension       0.062514\n",
            "radius error                 0.407268\n",
            "texture error                1.211303\n",
            "perimeter error              2.875481\n",
            "area error                  41.025875\n",
            "smoothness error             0.006969\n",
            "compactness error            0.025160\n",
            "concavity error              0.031753\n",
            "concave points error         0.011727\n",
            "symmetry error               0.020359\n",
            "fractal dimension error      0.003731\n",
            "worst radius                16.340689\n",
            "worst texture               25.593086\n",
            "worst perimeter            107.695156\n",
            "worst area                 890.279883\n",
            "worst smoothness             0.131983\n",
            "worst compactness            0.251785\n",
            "worst concavity              0.270272\n",
            "worst concave points         0.114229\n",
            "worst symmetry               0.289092\n",
            "worst fractal dimension      0.083394\n",
            "dtype: float64\n"
          ],
          "name": "stdout"
        }
      ]
    },
    {
      "cell_type": "code",
      "metadata": {
        "id": "7XwurZ11bgGj",
        "colab_type": "code",
        "colab": {}
      },
      "source": [
        "X_train, X_test, Y_train, Y_test = train_test_split(X, Y, test_size = 0.1, stratify = Y, random_state = 1)"
      ],
      "execution_count": 0,
      "outputs": []
    },
    {
      "cell_type": "code",
      "metadata": {
        "id": "2zVqgYTMb_PA",
        "colab_type": "code",
        "outputId": "576de892-56d3-4628-c35c-66d37016429e",
        "colab": {
          "base_uri": "https://localhost:8080/",
          "height": 1000
        }
      },
      "source": [
        "print(X.mean(), X_test.mean(), X_train.mean())"
      ],
      "execution_count": 0,
      "outputs": [
        {
          "output_type": "stream",
          "text": [
            "mean radius                 14.127292\n",
            "mean texture                19.289649\n",
            "mean perimeter              91.969033\n",
            "mean area                  654.889104\n",
            "mean smoothness              0.096360\n",
            "mean compactness             0.104341\n",
            "mean concavity               0.088799\n",
            "mean concave points          0.048919\n",
            "mean symmetry                0.181162\n",
            "mean fractal dimension       0.062798\n",
            "radius error                 0.405172\n",
            "texture error                1.216853\n",
            "perimeter error              2.866059\n",
            "area error                  40.337079\n",
            "smoothness error             0.007041\n",
            "compactness error            0.025478\n",
            "concavity error              0.031894\n",
            "concave points error         0.011796\n",
            "symmetry error               0.020542\n",
            "fractal dimension error      0.003795\n",
            "worst radius                16.269190\n",
            "worst texture               25.677223\n",
            "worst perimeter            107.261213\n",
            "worst area                 880.583128\n",
            "worst smoothness             0.132369\n",
            "worst compactness            0.254265\n",
            "worst concavity              0.272188\n",
            "worst concave points         0.114606\n",
            "worst symmetry               0.290076\n",
            "worst fractal dimension      0.083946\n",
            "dtype: float64 mean radius                 14.743807\n",
            "mean texture                19.109825\n",
            "mean perimeter              95.908246\n",
            "mean area                  715.896491\n",
            "mean smoothness              0.094496\n",
            "mean compactness             0.097130\n",
            "mean concavity               0.083923\n",
            "mean concave points          0.049159\n",
            "mean symmetry                0.173981\n",
            "mean fractal dimension       0.061169\n",
            "radius error                 0.418767\n",
            "texture error                1.306656\n",
            "perimeter error              2.909946\n",
            "area error                  43.944193\n",
            "smoothness error             0.006809\n",
            "compactness error            0.023659\n",
            "concavity error              0.027989\n",
            "concave points error         0.010293\n",
            "symmetry error               0.020169\n",
            "fractal dimension error      0.003618\n",
            "worst radius                16.942105\n",
            "worst texture               25.967544\n",
            "worst perimeter            111.783860\n",
            "worst area                 960.843860\n",
            "worst smoothness             0.130357\n",
            "worst compactness            0.225973\n",
            "worst concavity              0.241340\n",
            "worst concave points         0.106994\n",
            "worst symmetry               0.276719\n",
            "worst fractal dimension      0.079852\n",
            "dtype: float64 mean radius                 14.058656\n",
            "mean texture                19.309668\n",
            "mean perimeter              91.530488\n",
            "mean area                  648.097266\n",
            "mean smoothness              0.096568\n",
            "mean compactness             0.105144\n",
            "mean concavity               0.089342\n",
            "mean concave points          0.048892\n",
            "mean symmetry                0.181961\n",
            "mean fractal dimension       0.062979\n",
            "radius error                 0.403659\n",
            "texture error                1.206856\n",
            "perimeter error              2.861173\n",
            "area error                  39.935506\n",
            "smoothness error             0.007067\n",
            "compactness error            0.025681\n",
            "concavity error              0.032328\n",
            "concave points error         0.011963\n",
            "symmetry error               0.020584\n",
            "fractal dimension error      0.003815\n",
            "worst radius                16.194275\n",
            "worst texture               25.644902\n",
            "worst perimeter            106.757715\n",
            "worst area                 871.647852\n",
            "worst smoothness             0.132592\n",
            "worst compactness            0.257415\n",
            "worst concavity              0.275623\n",
            "worst concave points         0.115454\n",
            "worst symmetry               0.291562\n",
            "worst fractal dimension      0.084402\n",
            "dtype: float64\n"
          ],
          "name": "stdout"
        }
      ]
    },
    {
      "cell_type": "markdown",
      "metadata": {
        "id": "q5FxRV7vcNLV",
        "colab_type": "text"
      },
      "source": [
        "## Binarisation"
      ]
    },
    {
      "cell_type": "code",
      "metadata": {
        "id": "YMVB2fDrcCob",
        "colab_type": "code",
        "colab": {}
      },
      "source": [
        "import matplotlib.pyplot as plt"
      ],
      "execution_count": 0,
      "outputs": []
    },
    {
      "cell_type": "code",
      "metadata": {
        "id": "Exqdku-1cUix",
        "colab_type": "code",
        "outputId": "93ef2373-009e-45e4-d507-71f4557a1a25",
        "colab": {
          "base_uri": "https://localhost:8080/",
          "height": 374
        }
      },
      "source": [
        "plt.plot(X_train.T, '*')\n",
        "plt.xticks(rotation = 'vertical')\n",
        "plt.show()"
      ],
      "execution_count": 0,
      "outputs": [
        {
          "output_type": "display_data",
          "data": {
            "image/png": "[encoded data removed]",
            "text/plain": [
              "<Figure size 432x288 with 1 Axes>"
            ]
          },
          "metadata": {
            "tags": [],
            "needs_background": "light"
          }
        }
      ]
    },
    {
      "cell_type": "code",
      "metadata": {
        "id": "HVmOhoa4cfp3",
        "colab_type": "code",
        "colab": {}
      },
      "source": [
        "X_binarised_3_train = X_train['mean area'].map(lambda x: 0 if x < 1000 else 1)"
      ],
      "execution_count": 0,
      "outputs": []
    },
    {
      "cell_type": "code",
      "metadata": {
        "id": "Nnvytrh4dQOS",
        "colab_type": "code",
        "outputId": "5476148c-aa9a-4a88-d028-3d2b4620a925",
        "colab": {
          "base_uri": "https://localhost:8080/",
          "height": 282
        }
      },
      "source": [
        "plt.plot(X_binarised_3_train, '*')"
      ],
      "execution_count": 0,
      "outputs": [
        {
          "output_type": "execute_result",
          "data": {
            "text/plain": [
              "[<matplotlib.lines.Line2D at 0x7fc94d929dd8>]"
            ]
          },
          "metadata": {
            "tags": []
          },
          "execution_count": 105
        },
        {
          "output_type": "display_data",
          "data": {
            "image/png": "[encoded data removed]",
            "text/plain": [
              "<Figure size 432x288 with 1 Axes>"
            ]
          },
          "metadata": {
            "tags": [],
            "needs_background": "light"
          }
        }
      ]
    },
    {
      "cell_type": "code",
      "metadata": {
        "id": "TtSd3UBvdV50",
        "colab_type": "code",
        "outputId": "f17e1a3e-b30e-42e2-85b2-59c1ddb87902",
        "colab": {
          "base_uri": "https://localhost:8080/",
          "height": 374
        }
      },
      "source": [
        "plt.plot(X_test.T, '*')\n",
        "plt.xticks(rotation = 'vertical')\n",
        "plt.show()"
      ],
      "execution_count": 0,
      "outputs": [
        {
          "output_type": "display_data",
          "data": {
            "image/png": "[encoded data removed]",
            "text/plain": [
              "<Figure size 432x288 with 1 Axes>"
            ]
          },
          "metadata": {
            "tags": [],
            "needs_background": "light"
          }
        }
      ]
    },
    {
      "cell_type": "code",
      "metadata": {
        "id": "MB9nIC9Kdk_k",
        "colab_type": "code",
        "colab": {}
      },
      "source": [
        "X_binarised_train = X_train.apply(pd.cut, bins = 2, labels =[1, 0])"
      ],
      "execution_count": 0,
      "outputs": []
    },
    {
      "cell_type": "code",
      "metadata": {
        "id": "0cIzAWS1d3s0",
        "colab_type": "code",
        "outputId": "1de5ea59-4790-40f5-827f-4284703eed16",
        "colab": {
          "base_uri": "https://localhost:8080/",
          "height": 374
        }
      },
      "source": [
        "plt.plot(X_binarised_train.T, '*')\n",
        "plt.xticks(rotation = 'vertical')\n",
        "plt.show()"
      ],
      "execution_count": 0,
      "outputs": [
        {
          "output_type": "display_data",
          "data": {
            "image/png": "[encoded data removed]",
            "text/plain": [
              "<Figure size 432x288 with 1 Axes>"
            ]
          },
          "metadata": {
            "tags": [],
            "needs_background": "light"
          }
        }
      ]
    },
    {
      "cell_type": "code",
      "metadata": {
        "id": "e6E_poKwd79o",
        "colab_type": "code",
        "colab": {}
      },
      "source": [
        "X_binarised_test = X_test.apply(pd.cut, bins = 2, labels =[1, 0])"
      ],
      "execution_count": 0,
      "outputs": []
    },
    {
      "cell_type": "code",
      "metadata": {
        "id": "budMJzNheE9l",
        "colab_type": "code",
        "colab": {}
      },
      "source": [
        "X_binarised_test = X_binarised_test.values\n",
        "X_binarised_train = X_binarised_train.values"
      ],
      "execution_count": 0,
      "outputs": []
    },
    {
      "cell_type": "code",
      "metadata": {
        "id": "WClbSEZVeRAj",
        "colab_type": "code",
        "outputId": "b887ad99-8a51-4d9a-d137-00b5d3a7c9c6",
        "colab": {
          "base_uri": "https://localhost:8080/",
          "height": 34
        }
      },
      "source": [
        "type(X_binarised_test)"
      ],
      "execution_count": 0,
      "outputs": [
        {
          "output_type": "execute_result",
          "data": {
            "text/plain": [
              "numpy.ndarray"
            ]
          },
          "metadata": {
            "tags": []
          },
          "execution_count": 111
        }
      ]
    },
    {
      "cell_type": "markdown",
      "metadata": {
        "id": "rpUntxR8eVaK",
        "colab_type": "text"
      },
      "source": [
        "## MP Neuron model"
      ]
    },
    {
      "cell_type": "code",
      "metadata": {
        "id": "v7jP2wCjfW1m",
        "colab_type": "code",
        "colab": {}
      },
      "source": [
        "from random import randint"
      ],
      "execution_count": 0,
      "outputs": []
    },
    {
      "cell_type": "code",
      "metadata": {
        "id": "xtipdCpweTEO",
        "colab_type": "code",
        "colab": {}
      },
      "source": [
        "b = 3\n",
        "i = randint(0, X_binarised_train.shape[0])"
      ],
      "execution_count": 0,
      "outputs": []
    },
    {
      "cell_type": "code",
      "metadata": {
        "id": "T78fSIg-eadY",
        "colab_type": "code",
        "outputId": "5e2f0dce-3a3b-469f-f3b9-00f6eab6e935",
        "colab": {
          "base_uri": "https://localhost:8080/",
          "height": 581
        }
      },
      "source": [
        "if np.sum(X_binarised_train[100, :]) >= b:\n",
        "    print(\"MP Neuron malignant\")\n",
        "else:\n",
        "    print(\"MP Neuron benign\")\n",
        "    \n",
        "if Y_train[i] == 1 :\n",
        "    print(\"Ground truth Malignant\")\n",
        "else:\n",
        "    print(\"Ground truth is benign\")"
      ],
      "execution_count": 0,
      "outputs": [
        {
          "output_type": "stream",
          "text": [
            "MP Neuron malignant\n"
          ],
          "name": "stdout"
        },
        {
          "output_type": "error",
          "ename": "KeyError",
          "evalue": "ignored",
          "traceback": [
            "\u001b[0;31m---------------------------------------------------------------------------\u001b[0m",
            "\u001b[0;31mKeyError\u001b[0m                                  Traceback (most recent call last)",
            "\u001b[0;32m<ipython-input-114-7c302817c383>\u001b[0m in \u001b[0;36m<module>\u001b[0;34m()\u001b[0m\n\u001b[1;32m      4\u001b[0m     \u001b[0mprint\u001b[0m\u001b[0;34m(\u001b[0m\u001b[0;34m\"MP Neuron benign\"\u001b[0m\u001b[0;34m)\u001b[0m\u001b[0;34m\u001b[0m\u001b[0;34m\u001b[0m\u001b[0m\n\u001b[1;32m      5\u001b[0m \u001b[0;34m\u001b[0m\u001b[0m\n\u001b[0;32m----> 6\u001b[0;31m \u001b[0;32mif\u001b[0m \u001b[0mY_train\u001b[0m\u001b[0;34m[\u001b[0m\u001b[0mi\u001b[0m\u001b[0;34m]\u001b[0m \u001b[0;34m==\u001b[0m \u001b[0;36m1\u001b[0m \u001b[0;34m:\u001b[0m\u001b[0;34m\u001b[0m\u001b[0;34m\u001b[0m\u001b[0m\n\u001b[0m\u001b[1;32m      7\u001b[0m     \u001b[0mprint\u001b[0m\u001b[0;34m(\u001b[0m\u001b[0;34m\"Ground truth Malignant\"\u001b[0m\u001b[0;34m)\u001b[0m\u001b[0;34m\u001b[0m\u001b[0;34m\u001b[0m\u001b[0m\n\u001b[1;32m      8\u001b[0m \u001b[0;32melse\u001b[0m\u001b[0;34m:\u001b[0m\u001b[0;34m\u001b[0m\u001b[0;34m\u001b[0m\u001b[0m\n",
            "\u001b[0;32m/usr/local/lib/python3.6/dist-packages/pandas/core/series.py\u001b[0m in \u001b[0;36m__getitem__\u001b[0;34m(self, key)\u001b[0m\n\u001b[1;32m    869\u001b[0m         \u001b[0mkey\u001b[0m \u001b[0;34m=\u001b[0m \u001b[0mcom\u001b[0m\u001b[0;34m.\u001b[0m\u001b[0mapply_if_callable\u001b[0m\u001b[0;34m(\u001b[0m\u001b[0mkey\u001b[0m\u001b[0;34m,\u001b[0m \u001b[0mself\u001b[0m\u001b[0;34m)\u001b[0m\u001b[0;34m\u001b[0m\u001b[0;34m\u001b[0m\u001b[0m\n\u001b[1;32m    870\u001b[0m         \u001b[0;32mtry\u001b[0m\u001b[0;34m:\u001b[0m\u001b[0;34m\u001b[0m\u001b[0;34m\u001b[0m\u001b[0m\n\u001b[0;32m--> 871\u001b[0;31m             \u001b[0mresult\u001b[0m \u001b[0;34m=\u001b[0m \u001b[0mself\u001b[0m\u001b[0;34m.\u001b[0m\u001b[0mindex\u001b[0m\u001b[0;34m.\u001b[0m\u001b[0mget_value\u001b[0m\u001b[0;34m(\u001b[0m\u001b[0mself\u001b[0m\u001b[0;34m,\u001b[0m \u001b[0mkey\u001b[0m\u001b[0;34m)\u001b[0m\u001b[0;34m\u001b[0m\u001b[0;34m\u001b[0m\u001b[0m\n\u001b[0m\u001b[1;32m    872\u001b[0m \u001b[0;34m\u001b[0m\u001b[0m\n\u001b[1;32m    873\u001b[0m             \u001b[0;32mif\u001b[0m \u001b[0;32mnot\u001b[0m \u001b[0mis_scalar\u001b[0m\u001b[0;34m(\u001b[0m\u001b[0mresult\u001b[0m\u001b[0;34m)\u001b[0m\u001b[0;34m:\u001b[0m\u001b[0;34m\u001b[0m\u001b[0;34m\u001b[0m\u001b[0m\n",
            "\u001b[0;32m/usr/local/lib/python3.6/dist-packages/pandas/core/indexes/base.py\u001b[0m in \u001b[0;36mget_value\u001b[0;34m(self, series, key)\u001b[0m\n\u001b[1;32m   4402\u001b[0m         \u001b[0mk\u001b[0m \u001b[0;34m=\u001b[0m \u001b[0mself\u001b[0m\u001b[0;34m.\u001b[0m\u001b[0m_convert_scalar_indexer\u001b[0m\u001b[0;34m(\u001b[0m\u001b[0mk\u001b[0m\u001b[0;34m,\u001b[0m \u001b[0mkind\u001b[0m\u001b[0;34m=\u001b[0m\u001b[0;34m\"getitem\"\u001b[0m\u001b[0;34m)\u001b[0m\u001b[0;34m\u001b[0m\u001b[0;34m\u001b[0m\u001b[0m\n\u001b[1;32m   4403\u001b[0m         \u001b[0;32mtry\u001b[0m\u001b[0;34m:\u001b[0m\u001b[0;34m\u001b[0m\u001b[0;34m\u001b[0m\u001b[0m\n\u001b[0;32m-> 4404\u001b[0;31m             \u001b[0;32mreturn\u001b[0m \u001b[0mself\u001b[0m\u001b[0;34m.\u001b[0m\u001b[0m_engine\u001b[0m\u001b[0;34m.\u001b[0m\u001b[0mget_value\u001b[0m\u001b[0;34m(\u001b[0m\u001b[0ms\u001b[0m\u001b[0;34m,\u001b[0m \u001b[0mk\u001b[0m\u001b[0;34m,\u001b[0m \u001b[0mtz\u001b[0m\u001b[0;34m=\u001b[0m\u001b[0mgetattr\u001b[0m\u001b[0;34m(\u001b[0m\u001b[0mseries\u001b[0m\u001b[0;34m.\u001b[0m\u001b[0mdtype\u001b[0m\u001b[0;34m,\u001b[0m \u001b[0;34m\"tz\"\u001b[0m\u001b[0;34m,\u001b[0m \u001b[0;32mNone\u001b[0m\u001b[0;34m)\u001b[0m\u001b[0;34m)\u001b[0m\u001b[0;34m\u001b[0m\u001b[0;34m\u001b[0m\u001b[0m\n\u001b[0m\u001b[1;32m   4405\u001b[0m         \u001b[0;32mexcept\u001b[0m \u001b[0mKeyError\u001b[0m \u001b[0;32mas\u001b[0m \u001b[0me1\u001b[0m\u001b[0;34m:\u001b[0m\u001b[0;34m\u001b[0m\u001b[0;34m\u001b[0m\u001b[0m\n\u001b[1;32m   4406\u001b[0m             \u001b[0;32mif\u001b[0m \u001b[0mlen\u001b[0m\u001b[0;34m(\u001b[0m\u001b[0mself\u001b[0m\u001b[0;34m)\u001b[0m \u001b[0;34m>\u001b[0m \u001b[0;36m0\u001b[0m \u001b[0;32mand\u001b[0m \u001b[0;34m(\u001b[0m\u001b[0mself\u001b[0m\u001b[0;34m.\u001b[0m\u001b[0mholds_integer\u001b[0m\u001b[0;34m(\u001b[0m\u001b[0;34m)\u001b[0m \u001b[0;32mor\u001b[0m \u001b[0mself\u001b[0m\u001b[0;34m.\u001b[0m\u001b[0mis_boolean\u001b[0m\u001b[0;34m(\u001b[0m\u001b[0;34m)\u001b[0m\u001b[0;34m)\u001b[0m\u001b[0;34m:\u001b[0m\u001b[0;34m\u001b[0m\u001b[0;34m\u001b[0m\u001b[0m\n",
            "\u001b[0;32mpandas/_libs/index.pyx\u001b[0m in \u001b[0;36mpandas._libs.index.IndexEngine.get_value\u001b[0;34m()\u001b[0m\n",
            "\u001b[0;32mpandas/_libs/index.pyx\u001b[0m in \u001b[0;36mpandas._libs.index.IndexEngine.get_value\u001b[0;34m()\u001b[0m\n",
            "\u001b[0;32mpandas/_libs/index.pyx\u001b[0m in \u001b[0;36mpandas._libs.index.IndexEngine.get_loc\u001b[0;34m()\u001b[0m\n",
            "\u001b[0;32mpandas/_libs/hashtable_class_helper.pxi\u001b[0m in \u001b[0;36mpandas._libs.hashtable.Int64HashTable.get_item\u001b[0;34m()\u001b[0m\n",
            "\u001b[0;32mpandas/_libs/hashtable_class_helper.pxi\u001b[0m in \u001b[0;36mpandas._libs.hashtable.Int64HashTable.get_item\u001b[0;34m()\u001b[0m\n",
            "\u001b[0;31mKeyError\u001b[0m: 457"
          ]
        }
      ]
    },
    {
      "cell_type": "code",
      "metadata": {
        "id": "ihgr9Ct4even",
        "colab_type": "code",
        "outputId": "23eab3fc-7035-4364-f7e8-6261b93228bd",
        "colab": {
          "base_uri": "https://localhost:8080/",
          "height": 34
        }
      },
      "source": [
        "b = 3\n",
        "\n",
        "Y_pred_train = []\n",
        "accurate_rows = 0\n",
        "\n",
        "for x, y in zip(X_binarised_train, Y_train):\n",
        "    y_pred = np.sum(x) >= b\n",
        "    Y_pred_train.append(y_pred)\n",
        "    accurate_rows += (y == y_pred)\n",
        "\n",
        "print(accurate_rows, accurate_rows/X_binarised_train.shape[0])"
      ],
      "execution_count": 0,
      "outputs": [
        {
          "output_type": "stream",
          "text": [
            "321 0.626953125\n"
          ],
          "name": "stdout"
        }
      ]
    },
    {
      "cell_type": "code",
      "metadata": {
        "id": "z3rhrLFxg357",
        "colab_type": "code",
        "outputId": "6a0c9c8b-ac49-4c60-fe23-1aca62a398b2",
        "colab": {
          "base_uri": "https://localhost:8080/",
          "height": 544
        }
      },
      "source": [
        "for b in range(X_binarised_train.shape[1] + 1):\n",
        "    Y_pred_train = []\n",
        "    accurate_rows = 0\n",
        "\n",
        "    for x, y in zip(X_binarised_train, Y_train):\n",
        "        y_pred = np.sum(x) >= b\n",
        "        Y_pred_train.append(y_pred)\n",
        "        accurate_rows += (y == y_pred)\n",
        "\n",
        "    print(b, accurate_rows/X_binarised_train.shape[0])"
      ],
      "execution_count": 0,
      "outputs": [
        {
          "output_type": "stream",
          "text": [
            "0 0.626953125\n",
            "1 0.626953125\n",
            "2 0.626953125\n",
            "3 0.626953125\n",
            "4 0.626953125\n",
            "5 0.626953125\n",
            "6 0.626953125\n",
            "7 0.626953125\n",
            "8 0.626953125\n",
            "9 0.626953125\n",
            "10 0.626953125\n",
            "11 0.626953125\n",
            "12 0.626953125\n",
            "13 0.626953125\n",
            "14 0.630859375\n",
            "15 0.6328125\n",
            "16 0.642578125\n",
            "17 0.6484375\n",
            "18 0.65625\n",
            "19 0.6640625\n",
            "20 0.671875\n",
            "21 0.6875\n",
            "22 0.701171875\n",
            "23 0.724609375\n",
            "24 0.755859375\n",
            "25 0.78515625\n",
            "26 0.818359375\n",
            "27 0.845703125\n",
            "28 0.849609375\n",
            "29 0.814453125\n",
            "30 0.759765625\n"
          ],
          "name": "stdout"
        }
      ]
    },
    {
      "cell_type": "code",
      "metadata": {
        "id": "ml_Y335rjJ9F",
        "colab_type": "code",
        "colab": {}
      },
      "source": [
        "from sklearn.metrics import accuracy_score"
      ],
      "execution_count": 0,
      "outputs": []
    },
    {
      "cell_type": "code",
      "metadata": {
        "id": "QC98vRw2hlY5",
        "colab_type": "code",
        "outputId": "6cbb851c-8185-43aa-8be7-58c44dff6ade",
        "colab": {
          "base_uri": "https://localhost:8080/",
          "height": 34
        }
      },
      "source": [
        "b = 28\n",
        "Y_pred_test = []\n",
        "\n",
        "for x in X_binarised_test:\n",
        "    y_pred = np.sum(x) >= b\n",
        "    Y_pred_test.append(y_pred)\n",
        "\n",
        "accuracy = accuracy_score(Y_pred_test, Y_test)\n",
        "\n",
        "print(b, accuracy)"
      ],
      "execution_count": 0,
      "outputs": [
        {
          "output_type": "stream",
          "text": [
            "28 0.7894736842105263\n"
          ],
          "name": "stdout"
        }
      ]
    },
    {
      "cell_type": "markdown",
      "metadata": {
        "id": "TnkSOXZYkBnk",
        "colab_type": "text"
      },
      "source": [
        "## MP Neuron class"
      ]
    },
    {
      "cell_type": "code",
      "metadata": {
        "id": "SR4tgLbbjlle",
        "colab_type": "code",
        "colab": {}
      },
      "source": [
        "class MPNeuron:\n",
        "    def __init__(self):\n",
        "        self.b = None\n",
        "    \n",
        "    def model(self, x):\n",
        "        return (sum(x) >= self.b)\n",
        "    \n",
        "    def predict(self, X):\n",
        "        Y = []\n",
        "        for x in X:\n",
        "            result = self.model(x)\n",
        "            Y.append(result)\n",
        "        return np.array(Y)\n",
        "\n",
        "    def fit(self, X, Y):\n",
        "        accuracy = {}\n",
        "        for b in range(X.shape[1] + 1):\n",
        "            self.b = b\n",
        "            Y_pred = self.predict(X)\n",
        "            accuracy[b] = accuracy_score(Y_pred, Y)\n",
        "\n",
        "        best_b = max(accuracy, key = accuracy.get)\n",
        "        self.b = best_b\n",
        "\n",
        "        print(\"Optimal b: \", best_b)\n",
        "        print(\"Highest Accuracy is : \", accuracy[best_b])"
      ],
      "execution_count": 0,
      "outputs": []
    },
    {
      "cell_type": "code",
      "metadata": {
        "id": "1Z7phZ8jl_7M",
        "colab_type": "code",
        "outputId": "53559679-e0b3-45c4-d467-9df2827a281f",
        "colab": {
          "base_uri": "https://localhost:8080/",
          "height": 51
        }
      },
      "source": [
        "mp_neuron = MPNeuron()\n",
        "mp_neuron.fit(X_binarised_train, Y_train)"
      ],
      "execution_count": 0,
      "outputs": [
        {
          "output_type": "stream",
          "text": [
            "Optimal b:  28\n",
            "Highest Accuracy is :  0.849609375\n"
          ],
          "name": "stdout"
        }
      ]
    },
    {
      "cell_type": "code",
      "metadata": {
        "id": "keLAKD-1md20",
        "colab_type": "code",
        "colab": {}
      },
      "source": [
        "Y_test_pred = mp_neuron.predict(X_binarised_test)\n",
        "accuracy_test = accuracy_score(Y_test_pred, Y_test)"
      ],
      "execution_count": 0,
      "outputs": []
    },
    {
      "cell_type": "code",
      "metadata": {
        "id": "sthmbzAMm9ZG",
        "colab_type": "code",
        "outputId": "0b32f421-b6eb-474c-a55d-59a301a994c8",
        "colab": {
          "base_uri": "https://localhost:8080/",
          "height": 34
        }
      },
      "source": [
        "print(accuracy_test)"
      ],
      "execution_count": 0,
      "outputs": [
        {
          "output_type": "stream",
          "text": [
            "0.7894736842105263\n"
          ],
          "name": "stdout"
        }
      ]
    },
    {
      "cell_type": "code",
      "metadata": {
        "id": "2Gd8ejCkS7-s",
        "colab_type": "code",
        "outputId": "18a649c6-92fc-4166-f29f-a8cb6643dcd2",
        "colab": {
          "base_uri": "https://localhost:8080/",
          "height": 180
        }
      },
      "source": [
        "X_test = X_test.values\n",
        "Y_test = Y_test.values"
      ],
      "execution_count": 0,
      "outputs": [
        {
          "output_type": "error",
          "ename": "AttributeError",
          "evalue": "ignored",
          "traceback": [
            "\u001b[0;31m---------------------------------------------------------------------------\u001b[0m",
            "\u001b[0;31mAttributeError\u001b[0m                            Traceback (most recent call last)",
            "\u001b[0;32m<ipython-input-198-39ce85f0877a>\u001b[0m in \u001b[0;36m<module>\u001b[0;34m()\u001b[0m\n\u001b[0;32m----> 1\u001b[0;31m \u001b[0mX_test\u001b[0m \u001b[0;34m=\u001b[0m \u001b[0mX_test\u001b[0m\u001b[0;34m.\u001b[0m\u001b[0mvalues\u001b[0m\u001b[0;34m\u001b[0m\u001b[0;34m\u001b[0m\u001b[0m\n\u001b[0m\u001b[1;32m      2\u001b[0m \u001b[0mY_test\u001b[0m \u001b[0;34m=\u001b[0m \u001b[0mY_test\u001b[0m\u001b[0;34m.\u001b[0m\u001b[0mvalues\u001b[0m\u001b[0;34m\u001b[0m\u001b[0;34m\u001b[0m\u001b[0m\n",
            "\u001b[0;31mAttributeError\u001b[0m: 'numpy.ndarray' object has no attribute 'values'"
          ]
        }
      ]
    },
    {
      "cell_type": "code",
      "metadata": {
        "id": "UzcsBYdPP0n7",
        "colab_type": "code",
        "outputId": "45300eff-99aa-473c-e6dc-e093f1f115da",
        "colab": {
          "base_uri": "https://localhost:8080/",
          "height": 265
        }
      },
      "source": [
        "plt.plot(perceptron.w)\n",
        "plt.show()"
      ],
      "execution_count": 0,
      "outputs": [
        {
          "output_type": "display_data",
          "data": {
            "image/png": "[encoded data removed]",
            "text/plain": [
              "<Figure size 432x288 with 1 Axes>"
            ]
          },
          "metadata": {
            "tags": [],
            "needs_background": "light"
          }
        }
      ]
    },
    {
      "cell_type": "markdown",
      "metadata": {
        "id": "s0bPHKPXnFli",
        "colab_type": "text"
      },
      "source": [
        "## Perceptron Class"
      ]
    },
    {
      "cell_type": "code",
      "metadata": {
        "id": "bf6kMhDVm_zE",
        "colab_type": "code",
        "colab": {}
      },
      "source": [
        "class Perceptron:\n",
        "\n",
        "    def __init__(self):\n",
        "        self.w = None\n",
        "        self.b = None\n",
        "\n",
        "    def model(self, x):\n",
        "        return 1 if np.dot(self.w, x) >= self.b else 0\n",
        "\n",
        "    def predict(self, X):\n",
        "        Y = []\n",
        "        for x in X:\n",
        "            result = self.model(x)\n",
        "            Y.append(result)\n",
        "        return np.array(Y)\n",
        "    def fit(self, X, Y, epochs = 1, lr = 1):\n",
        "        self.w = np.ones(X.shape[1])\n",
        "        self.b = 0\n",
        "\n",
        "        accuracy = {}\n",
        "        max_accuracy = 0\n",
        "\n",
        "        wt_matrix = []\n",
        "\n",
        "        for i in range(epochs):\n",
        "            for x, y in zip(X, Y):\n",
        "                y_pred = self.model(x)\n",
        "                if y == 1 and y_pred == 0:\n",
        "                    self.w += lr * x\n",
        "                    self.b += lr * 1\n",
        "                elif y == 0 and y_pred == 1:\n",
        "                    self.w -= lr * x\n",
        "                    self.b -= lr * 1\n",
        "                else:\n",
        "                    pass\n",
        "\n",
        "            wt_matrix.append(self.w)\n",
        "            accuracy[i] = accuracy_score(self.predict(X), Y)\n",
        "            if accuracy[i] > max_accuracy:\n",
        "                max_accuracy = accuracy[i]\n",
        "                chkptw = self.w\n",
        "                chkptb = self.b\n",
        "\n",
        "        self.w = chkptw\n",
        "        self.b = chkptb\n",
        "        print(max_accuracy)\n",
        "\n",
        "        plt.plot(list(accuracy.values()))\n",
        "        plt.ylim([0, 1])\n",
        "        plt.show()\n",
        "\n",
        "        return np.array(wt_matrix)"
      ],
      "execution_count": 0,
      "outputs": []
    },
    {
      "cell_type": "code",
      "metadata": {
        "id": "O5pBzVx8LiGn",
        "colab_type": "code",
        "colab": {}
      },
      "source": [
        "perceptron = Perceptron()"
      ],
      "execution_count": 0,
      "outputs": []
    },
    {
      "cell_type": "code",
      "metadata": {
        "id": "Xt-fZOKOPp11",
        "colab_type": "code",
        "outputId": "3464d365-9501-40d5-8c30-56d2ea09ed74",
        "colab": {
          "base_uri": "https://localhost:8080/",
          "height": 286
        }
      },
      "source": [
        "wt_matrix = perceptron.fit(X_train, Y_train, 100, 1)"
      ],
      "execution_count": 0,
      "outputs": [
        {
          "output_type": "stream",
          "text": [
            "0.927734375\n"
          ],
          "name": "stdout"
        },
        {
          "output_type": "display_data",
          "data": {
            "image/png": "[encoded data removed]",
            "text/plain": [
              "<Figure size 432x288 with 1 Axes>"
            ]
          },
          "metadata": {
            "tags": [],
            "needs_background": "light"
          }
        }
      ]
    },
    {
      "cell_type": "code",
      "metadata": {
        "id": "HLjRC2lvM-jV",
        "colab_type": "code",
        "outputId": "2ac4399a-1c27-45f1-b445-55aefc76ef12",
        "colab": {
          "base_uri": "https://localhost:8080/",
          "height": 34
        }
      },
      "source": [
        "Y_pred_train = perceptron.predict(X_train)\n",
        "print(accuracy_score(Y_pred_train, Y_train))"
      ],
      "execution_count": 0,
      "outputs": [
        {
          "output_type": "stream",
          "text": [
            "0.92578125\n"
          ],
          "name": "stdout"
        }
      ]
    },
    {
      "cell_type": "code",
      "metadata": {
        "id": "OIs-dl6SNXcL",
        "colab_type": "code",
        "outputId": "48d4a908-c3ca-419d-d142-f00cc27dd00e",
        "colab": {
          "base_uri": "https://localhost:8080/",
          "height": 34
        }
      },
      "source": [
        "Y_pred_test = perceptron.predict(X_test)\n",
        "print(accuracy_score(Y_pred_test, Y_test))"
      ],
      "execution_count": 0,
      "outputs": [
        {
          "output_type": "stream",
          "text": [
            "0.9298245614035088\n"
          ],
          "name": "stdout"
        }
      ]
    },
    {
      "cell_type": "code",
      "metadata": {
        "id": "GURcCnBSQKUw",
        "colab_type": "code",
        "outputId": "0fb09168-8384-4e00-85f6-38ee33de4b58",
        "colab": {
          "base_uri": "https://localhost:8080/",
          "height": 265
        }
      },
      "source": [
        "plt.plot(wt_matrix[-1, :])\n",
        "plt.show()"
      ],
      "execution_count": 0,
      "outputs": [
        {
          "output_type": "display_data",
          "data": {
            "image/png": "[encoded data removed]",
            "text/plain": [
              "<Figure size 432x288 with 1 Axes>"
            ]
          },
          "metadata": {
            "tags": [],
            "needs_background": "light"
          }
        }
      ]
    },
    {
      "cell_type": "code",
      "metadata": {
        "id": "sL9mmWfmdCAM",
        "colab_type": "code",
        "colab": {}
      },
      "source": [
        "%matplotlib inline\n",
        "import matplotlib.pyplot as plt\n",
        "\n",
        "from matplotlib import animation, rc\n",
        "from IPython.display import HTML"
      ],
      "execution_count": 0,
      "outputs": []
    },
    {
      "cell_type": "code",
      "metadata": {
        "id": "7MzA-qR0dpkh",
        "colab_type": "code",
        "outputId": "bb9a3307-9a5a-43d6-d6f8-aad80516fd3b",
        "colab": {
          "base_uri": "https://localhost:8080/",
          "height": 269
        }
      },
      "source": [
        "fig, ax = plt.subplots()\n",
        "\n",
        "ax.set_xlim(( 0, wt_matrix.shape[1]))\n",
        "ax.set_ylim((-10000, 25000))\n",
        "line, = ax.plot([], [], lw=2)"
      ],
      "execution_count": 0,
      "outputs": [
        {
          "output_type": "display_data",
          "data": {
            "image/png": "[encoded data removed]",
            "text/plain": [
              "<Figure size 432x288 with 1 Axes>"
            ]
          },
          "metadata": {
            "tags": [],
            "needs_background": "light"
          }
        }
      ]
    },
    {
      "cell_type": "code",
      "metadata": {
        "id": "wQ0Mi5LidtEj",
        "colab_type": "code",
        "colab": {}
      },
      "source": [
        "def animate(i):\n",
        "    x = list(range(wt_matrix.shape[1]))\n",
        "    y = wt_matrix[i, :]\n",
        "    line.set_data(x, y)\n",
        "    return (line,)"
      ],
      "execution_count": 0,
      "outputs": []
    },
    {
      "cell_type": "code",
      "metadata": {
        "id": "4ULPW_FQd4Yb",
        "colab_type": "code",
        "colab": {}
      },
      "source": [
        "anim = animation.FuncAnimation(fig, animate, frames=100, interval=200, blit=True)"
      ],
      "execution_count": 0,
      "outputs": []
    },
    {
      "cell_type": "code",
      "metadata": {
        "id": "cEGiPgsHd44l",
        "colab_type": "code",
        "outputId": "48e752eb-f860-4288-f86d-c1cec1090413",
        "colab": {
          "base_uri": "https://localhost:8080/",
          "height": 309
        }
      },
      "source": [
        "HTML(anim.to_html5_video())"
      ],
      "execution_count": 0,
      "outputs": [
        {
          "output_type": "execute_result",
          "data": {
            "text/html": [
              "<video width=\"432\" height=\"288\" controls autoplay loop>\n",
              "  <source type=\"video/mp4\" src=\"data:video/mp4;base64,AAAAHGZ0eXBNNFYgAAACAGlzb21pc28yYXZjMQAAAAhmcmVlAAArM21kYXQAAAKtBgX//6ncRem9\n",
              "5tlIt5Ys2CDZI+7veDI2NCAtIGNvcmUgMTUyIHIyODU0IGU5YTU5MDMgLSBILjI2NC9NUEVHLTQg\n",
              "QVZDIGNvZGVjIC0gQ29weWxlZnQgMjAwMy0yMDE3IC0gaHR0cDovL3d3dy52aWRlb2xhbi5vcmcv\n",
              "eDI2NC5odG1sIC0gb3B0aW9uczogY2FiYWM9MSByZWY9MyBkZWJsb2NrPTE6MDowIGFuYWx5c2U9\n",
              "MHgzOjB4MTEzIG1lPWhleCBzdWJtZT03IHBzeT0xIHBzeV9yZD0xLjAwOjAuMDAgbWl4ZWRfcmVm\n",
              "PTEgbWVfcmFuZ2U9MTYgY2hyb21hX21lPTEgdHJlbGxpcz0xIDh4OGRjdD0xIGNxbT0wIGRlYWR6\n",
              "b25lPTIxLDExIGZhc3RfcHNraXA9MSBjaHJvbWFfcXBfb2Zmc2V0PS0yIHRocmVhZHM9MyBsb29r\n",
              "YWhlYWRfdGhyZWFkcz0xIHNsaWNlZF90aHJlYWRzPTAgbnI9MCBkZWNpbWF0ZT0xIGludGVybGFj\n",
              "ZWQ9MCBibHVyYXlfY29tcGF0PTAgY29uc3RyYWluZWRfaW50cmE9MCBiZnJhbWVzPTMgYl9weXJh\n",
              "bWlkPTIgYl9hZGFwdD0xIGJfYmlhcz0wIGRpcmVjdD0xIHdlaWdodGI9MSBvcGVuX2dvcD0wIHdl\n",
              "aWdodHA9MiBrZXlpbnQ9MjUwIGtleWludF9taW49NSBzY2VuZWN1dD00MCBpbnRyYV9yZWZyZXNo\n",
              "PTAgcmNfbG9va2FoZWFkPTQwIHJjPWNyZiBtYnRyZWU9MSBjcmY9MjMuMCBxY29tcD0wLjYwIHFw\n",
              "bWluPTAgcXBtYXg9NjkgcXBzdGVwPTQgaXBfcmF0aW89MS40MCBhcT0xOjEuMDAAgAAAH5pliIQA\n",
              "FP/+98dPwKbo+WbLnUU9ITCK2PpIKL1Y7NAydQAAAwAARTqf8cJI/gAa+ot+jlucUDOe4PFsL8ot\n",
              "uk2HgZ0V/P/BIwTzvGPWeoYkF06fBENtN/0294MNwFxzAhSBIIrV5RhvICAJckFkJJDGuFmM3XU2\n",
              "EYhquDjDjerEsvyXV6E5EQswNL5S+TKzv1exEi5LiL1+mKzJ1PIs+X1gAEZl/C/WmF+fmyDhz4+9\n",
              "4mX2hdZaDrTLrqD8BnkvYpKQ7naHly5sy740V+AeDRaBbUwNen0LuiaENVw41qKV7RRgdIUUNyir\n",
              "KyarunubtHTpi+mrFmLY27H2l8Xwvmm2h8wL76iDN2o0+C8XV1v4mZDyUipztirlRCSIDWFh3SjG\n",
              "x+0vaBS8kxpWt3yxb8Lt3d2Q1SXoXda0tEpXP+Ft8zcPz6dnkmm4t9p8t1U0BuGN+kKfCHx/ax+E\n",
              "IQJ7ChXpmdzIpcWEfEVzOyFZsFSi7MA9z7yRbeFtYvGyVs+z7U/wNDnEQlHczkL0L2O3WFWSoDHf\n",
              "uBNZU5/re8jSfZ1TgkscZd2rMIkY8Ee2TN2qkTNNnlKMJN0uPevAr/BWjLeqdG39kz6rcjIO00aE\n",
              "Bn9T2DBfzyJq49yg0B0wrGsblsMUPhft1JMCb+CBo+eKKOiZwZ700aUS0ESoCDVm4egScB1FfJ6l\n",
              "2o4IYBQAVyDUcXj+JiIHPueRtiIrje5d9twnROVpZkPmMFth+pkjmnw9siQPRwv/MECaWJbLkHWN\n",
              "71eYRlQpbr5CdPh4wiocvNWOA3Rj2FYu5AXioYuXJ5u0/SfWbBcMxVH4A5iTraCESRa0Gu7wRUSq\n",
              "YVLGw2yGbB+MaG6pWiiQXCTtSyGwsakB7gfo/iPIuvdZzCWTscUqbyWwvREkL9B+o6AeExPB8P9E\n",
              "IL6RRywnvoOXkulAhSApCnrHyIUKe4pnqdKbTXSvTHIYiLAYYdq8BjHPL8ZjlnvIAfQGVBGcAgrv\n",
              "SqQbkXlbKUgsRBVx79Nn6rUaaeAhEJZZcW4J2SexEdDr3AORHtxDxP/U568dYRyFW492vBeFs7As\n",
              "zYilotiBQ78D3TADN+Z+LICZzUuzNXph4P+64Rd1AYeMt53pCfDx/p8nkD9EB3yiwY35MEQWUiKh\n",
              "Vj2KB3Vg4A+ERMnY1WXj5XB6Vv0osJf+NsDqqvt4/KUSP6HenWCGeRV9Dnu2jWy8bieHUFB1F9OU\n",
              "ZwJ3iK3UfC652ZssZZlgsfvFgMcYSdaB2qQTVw89oh8oeu282FNjAAVlmQgiuUyDehmSEeJBLMQp\n",
              "6Dr42WJC0VNt7Xq4E6Bs8hEXpgHzkjgUT5Ocr3EcroIVvyoJ0UgcGZlfmSu2NaDtMmS03NY3+l4l\n",
              "377e+VGyevR//VdgS4jWWebrIHeFucUVvLoImDrmJGEB1P9qhzRqPfRQwvuzPcjYUw6P/d6SqEIt\n",
              "6ET4vGLwrYJx5wJwPIAy+MkhZnj5JAwp6EG9G+B0AXcxjniZ1rreQQgRj3f+fCjSG6RPa+ks+Ur+\n",
              "974HWQkilSIQwwPSOXuTEym1IQcCBaUJdopLhOqVaQcniMhzLF3Lx9RyHiTWp6ovSKpyA66nJ3DW\n",
              "FY39i/HcYCOu7uJBKHnbkEucDkjcj0fkJiHGkMyY52B4B/obZR+u3s0mz8gD9NPvK3oXqUizBcYx\n",
              "0nNXkm1OCHramAQsXUBni2mWOSDyf0EwjoJyNsL3ucl/G/AteuBuXsuu/++BWHLlPg61IJebO+r1\n",
              "MWD3oIIBMwUReejIg35yQrsM/l7FjNsmMP/o7V4nECu/h5Ekk2KO1m0Teau9grzp6qBocn7BYOk1\n",
              "+O/n0BFBRSUj4e/D6QLppImGMHL8av9gj/7jZztYG0GdJTMD3LLMvbphCL8nskyAyurOV94ZKQYh\n",
              "b746o++kP0FWtRpuzR5MMyckfSBqN55pBF6A45WwZDQqmVkfJfes6k0wlaOan6SYE9ItZr2MtkXL\n",
              "bHcnsRrLQPbbch4ZOKUTKaDdb5v1g14obJM84MwTi7lZeQ5Jl0xavKirAM8tSjpxvzfN1p6mgdLR\n",
              "ca/YIapkxXKoQklLkNgXMWwbtioVszmYuzS8KjyIB1UleAWhenp1GVq0Uigk1bN7BTNLoL4C7VEg\n",
              "mbhG2E1t0tGuvNhEMQmYP8gTJNYE4qoNBZodxKxWfIDuq7dEl6Edy3m9Pp0DQbKbxd5DmfXxC5Hf\n",
              "ggMJqAOZTRudC0fHm+GC4sNGs/cRi6ZRXa+MiYwr5xPSMjg3JEzT9Uu7T5FSV3jMfqGJ3HbfgG6F\n",
              "99ClgjtydKQoHjlL3lTihibVv2SgEaT5IjnJe4ZLBiD4YRIw0JBWyFw9X8o+4jgJkLewJgmimaoD\n",
              "hR5Mv7nLFUiPhiJot/Z0hPSWC8DzyDZAtNz0PyK8zvvRb2MWHWSeBrMllbrU2uJsLb635GwwHnYs\n",
              "ptJjR01k3Wf1Lop5yyTw8Rqpdkl0sPntol/1ZjorFQ2HRt9ISWy16BLOMecIPBpLrlDlBl0Xj9gN\n",
              "gkNKf+oRW8jdToauD/6+wtxd0FPAnxOIzl+MCw4Gw4qdSv1jOYP7FwAc9sk4RU08R6RCBxDN52o7\n",
              "gN8CeGgFwrB/h0DwhYmu3ZHSkqn10SPn2MX+hX/bgKj4xQnF8nbdsJrS0FuMJksLiWdv06CsXXD2\n",
              "zj/t8cdsqjw6eWzHTI0rT9s+rBB/PHRHCmcyt4Am+9W48a8FoEfPtqtlcyFy8ljg5aD3xUnTmEHr\n",
              "gd/rKWnGm1ImDI2N/9AgYgK6Y7JLAiQKED0Vph5GLi1PHdO0XW0FDH7XuzF0k1BcxXNLPue0iVec\n",
              "v1Xq4q4OOjB23L1WJVv4mvql3x08ggIGoyjdKxaT6KcpyTNeHNbGAUWepVjDIVIx6kfswDp5rRh3\n",
              "j/LxfubM6l312PMURoRY46MDRFyiSAm5PHKzU/5s73a3ovphe6P/FZ5D2wHBHmmEaL+XQBjo6Ud9\n",
              "gHz6lIHBCTVdrElyT1B1lVi2U1qoHJXypfCIlPD2C0gM5PXxavpCORRX9YbbCKr3fGIF/xYUqvwq\n",
              "GWUIPvCHOyoVPzjuvGvIielV7gJishY/83TXhd1tkMzMmudeW5tydmF66uz+JJug/PDKLFv0bgmP\n",
              "hOtxD/+kvNU9G0B1PHoY7dt2cVr0KgHdRIpYmj5SBMloqJqmqK8cMIWgeT+Yg0fTffn9DOR/TBLh\n",
              "OARQF/JPDldZvf3ECNVrvN8KTwMEYhpAxIx/38wn2UX8csAtSDpnPzFUkwA5qeF+wcj1cfVKxkQQ\n",
              "sLhmBVpg+4UKkyEec4QS5MDTKBzP5zamULVTZuaw8N7vM9xBGdOxkldSJXR/R1r5Q+HByZtgORYQ\n",
              "QqJPkLKXHA+fi3+Y/qW10d8nAwFz1JlJ2rworqG56XLsRBihN9Q14HucI4dGxOBTdAkQKfipWbzo\n",
              "0REiRMyxvi/91ASFG5gN3wKCVA8XPzX8LYQ3fz9kO2jgCm1hPn6Gr/Npsh6XvtSDs4ZGIsR8b0SS\n",
              "nPmqT2zP/mqZYG7sPUMf+tPwOGJKRNWab6ZZHuJ8hPckFzG0iI5Y0MimWUv1aO4xCYWrF9zj7kwK\n",
              "WsaSmhnrOlmXxobb1dQn0ApveFoBX1I1XBJcdS7XxB4SHJSdH+rG/0rw6XGLdQpiFnx3fy0CgkZw\n",
              "uwJ8Mvq/reYFtfnFfyLCeNWu2//Yw6/5qqPh1l+HYenwMORzT/bQdTwnJxxdw2MkTB7e/t9pNzyo\n",
              "gj/SOKgqayea0hXNn/HSoiUoK/b2cOV3/acgKYsz2asYSTD9QSHRygEsI4/kCLr33Mp2+Bqnvt6n\n",
              "Uoq/opzfwuglP5FnCJt+BDv1vwWZsMm5NhWOAJvJFDwronCHeZZP5M/gm6fiizlsU6D2X6to8xq1\n",
              "ET164gyNWw116ThUpxcd4MPy89KN2/+H0T6xy49f7Xiw6tgp73iLUvOdD05DWzLpyTjvSKK7ffph\n",
              "/ZRtMyX4ncQ7UmoeYjrR1uMDVfe/yHmKr89/IB/eH2ewjWASh5+9+TkoH0lDA/NVMc7q16/N/W+A\n",
              "UXT1OhDk/qVI/tAip5wiY1YnNBmKQizJWN6NiICFL/Z24rlVbygoGDeMVam67x0TAz30tOoaA8tA\n",
              "q4LDWug8zuGJPF5Jcaphdx5yEcjxPg3r+oMxWk+1deUFFrUFx0qNtyj+DeUPrSpxtF18eoUN8E3y\n",
              "+w7gQyKnVfpjoMtJo2LREdG/g0tCqTvUBzAR4x3AY396rFf5dVuKQ20Lm+p8U3b9LOxTwIIaixfB\n",
              "R9SdNAuNcSM7ukHd6gEJMe5vYk/+VzSvmGcxAOg0n+YmZIOgGEK6uJtiFCb9gMBAbc/bXq7/msx3\n",
              "FHkQ2me01OX0tg3ScEyE9q1UyRJr7KMUTEVBDL32N4muGO00Lr0j7pU9EOCH7TDI0z8HmVJpl4x3\n",
              "ktRgS21vbNLzVadbXFyJX58Jrb99hk0pdEiyEVzVK4pQG/L2q9iy/r0/yFQtdGvigvrFwX4QmSyk\n",
              "iPLxxouvzxL5ogMsbaProntbp7xmQgjNP2THEFdOy9/9lqI4ADN2yYk4t3PtfhOt9rOdAJ1P+Iar\n",
              "37p+SfclTpg7PZKB2e3ZRCCbuHRNHTzJu/nGh41I7xfHsdOycZdh14aa0TtDpC00bRMM44ifrC/V\n",
              "MQAfxmd1efzUmRxQJENTeVin8wv7yaXlccHQAnsoT8QtACue+6FTuvYU8w66+sC4/ZHX9Rk4dMx7\n",
              "PS+dzSoQa3neqZkssraosTNl716sjqbETBuX36MAbSsX1imEU8G61ys8xe1TiKAWMc15T563k7cm\n",
              "g3pS+vAN57Ut5G9I+iN864AjIfAixMUFkereBbsHqBAaj5tmrFHa8jv+65uPcfLBkw25wrOvU8+k\n",
              "Tp/yY5Pe9JRlZmh7ZZiEZev3ErUkXsJ8XBlcmvOiib7cdFxMJOt4R2tTdsD20GwueylBdI245fz/\n",
              "4YAjVT/L7swgvqGAqTsBhoRghxtAAGuhnMe/SLaltuOtaaZdUKLv4L2aJEgX4/F2mhjVfZPjSMYX\n",
              "YOHdBTuHK8wKaJ6+m3tc4E2tWY3RQTnizVLJ7DWceAT+UIMLp2HQm0r18x/CbqIl3Sjd8BIV90z2\n",
              "ith2QoFSNrGPcBqtpy/7hkNXtJDG1WgJJaC/yxl3wjlqKLmHHI5VszoAakrAMgMpzsSOXPWCIVbF\n",
              "W7m1G7LPIF4sWAArhg26HvqohnQVaMzpuHaumIi4Hn0nBuvk2wbVzjoI4ep2Aaaahu4l1BNNIFiv\n",
              "MP/F0drX6taPJ4ARgzj+SOtH4SqSRFTFipLDyXC1poS5Qf31eQInzfxXn1doLf+gZ2+K+1W2zdSj\n",
              "VH7z2xql5XMIkr58WnuMeVH/D6ehgzLQbbkfxDV8pOsZetwbic3fr9tilphzuAz26nMURB3ZA85z\n",
              "seAhGu7ejx1w0XWSk55a/cVetZP0OH+AEluMf/oJI/iTGP4E2YLP5T+8epDB88fo71NIwlVdDcbd\n",
              "jF1C9TrtUxl+WrxbnsnpT9v9ZXhrKPe2iYuXaBHKmLaN7sHnp+UF941JNEu+CNK/Yvl383sDEloK\n",
              "3O3GMYROSBmU6c67j8a3U0UV4ah6uZzzGY1iOAfMvV2w6GwxTlrvdPt91ncs6/8XrBC/DmhZTWyt\n",
              "vfYs/MrmjWSnmjjYl1UfW5iUgJWpR0q6OooizoJovvQJeM/uiVd2teWbY+u63m1Ir56hks2wXPm/\n",
              "xnAg1ZPioDmc+vphm+DTC+L2kqAfMVuraAE5RVcxTFHmynTCeHlwqrgpj4xy6FjBmWGl0ymKEtyL\n",
              "ytmrWr3EqGH7tRVtxttR5HL01OmgCRzYmExcaDAIfCHvxv79BFql8dLm71/eJXdQDLWrmjq29h7I\n",
              "MN/qgV1/uEdVzlxSF7Rv7zwGYUVba4Qr3cqv88r+P6HJ72lJqqtknbF2nlr5F4o1vqgGHDqwvy3J\n",
              "GgNvxXsEMmFpGKYWzuxLqt3KDPzF1C7fI9FgYKzgQM4LxcrOaTUIKr+DuqXWqsIRX14fzltSjsjG\n",
              "n/QNexqUISeVkfhuz6HTwKD9ziwabJcpNHMQPbTWBwIFB3k6b8vrmCaM+FHyG4I6nb90SyyUQJv4\n",
              "LyXgKpU7xm2FF0NKC9QOw/1JGIYUbkHwpi0hJWsL8iUVK1d4+5vP0ItH4zCfCKr+zVt/FwOYOWFO\n",
              "9sXky5mWuguSaZ2VEXSO1RF+bLZmj4GmPjpo7Zon8rT7G6wzIcT/AQ+4q6z9yM+FUR6sThP7sk74\n",
              "MuuUjEKrbcmoBfdrK+PY49kCiT1lNV2YCnxVT5LjSxWMPvr5/R9Ef/5V6VrIRN1c9+HTqyqdjhQD\n",
              "9JO4lnp+takq/V5WXsT6yCGGd1EZ1DTlMAiqPANBKfIXJHr7xNyucrXpILuQuzeK+SUu6WRTDweS\n",
              "oqHXHbVzfjNyjyAXblg9VuublBa8RYM95e2EwsMQd8DfiRFXHxbyg3qBFxKCU93O35lzGagU8zlO\n",
              "pFTNQAms2Jh/p8MuL+0TeceihyeIl4zbsrHmYv/krRo4WzEATntyRe0F6ovqSgFuNSWptfgbx3/8\n",
              "1IOMkaygoCkjVDBsQMet774NChcy2Zf/1l42rO85K9/d/vZqBbqjtIEwGeQqHcU2IKmxagca/t2N\n",
              "YcBBcPgvZ3XXH5Xo1pJAMMkfaPtVllJ936oqGICYUdqSxA+B245enBlIjaLDHXm9ZH6HygyGeX2+\n",
              "R/2VBHeTLg7zAGF1zLHxnLvncg3+FfMdb3ypgBvNVU7/1EBr1sLL0RIOsCzA/lkLgqZgN5O4qLOq\n",
              "EVj4fdcFVslTbBFhMBAhNczVP4kIzl9Z/DrIXzDED6cYLkKeDlYpg9MyQY5jn3oOlK/9Ip3kBeSH\n",
              "MqNCTLHj/Sj/NZPcSKQ3KK/NemDumdmELNVaUFyubGlBbA/fPtFiogAoS/SdzwW/sSqIezv71Xuz\n",
              "l+bvmaUzkyVwlV1Dzz2RkO9cFcWPRkX1ErxeYJtAtQFzmnGFj+Ossz53+/vVA/v+RN6+11tUpU8x\n",
              "e9XJL/RkZ2VSYIj9AXdvhidH2Lqw0/gsFaCQUNVRAeRgxN2COmTj7f4DwsixgpgTisxL6U57gpnN\n",
              "s5azbEDR7u7lY+CRFlK2Y7zIeUCE6Bu6rgrxJYMqsbNi1Xsw9QsIOfPkODAECsPv9P/kY+6Kqu2m\n",
              "gwhNjovjzekDM+/zHiEf66RSb90dOw0JTVjIvueq4EcMEHt5cqxmnZAiBpr4OHd6vLX+T/FJA88r\n",
              "GJJmyAh+itew5kgt+uRxk8VnwwN8VVUQ+Q1ovb0D1uwhzAVxmMmq0lD1UgLgSoS+Zo9Um9kA3tqk\n",
              "nfh3tE8WaV4RVgCSrqJsC9akvKgccPdA/GzBeYVbuY4DzlO3jFleXR+7ON/izGL3E8SeVt6V9Ey/\n",
              "3Bm09d/W0N1qKLQNKsPbshGco0SDmAIqjL7cdYfDg4z5G84AJwNtCd+5jtBUGDcLtWAiKlzjPmiP\n",
              "a07dP/Aw0NbVRRw6fnRxrJYmhZ9cwVwiDIyr/vVTaFUG/0wNEJbBlav3fjoZvboyqFxHdnJkWoZ7\n",
              "D1G9lh6nBQTV26CTgCrA1ZJMIi9Blg3B2MJ6DElDK6MC/nKpa+OKL5Iqh0YapejI/mPNRqRoQoTV\n",
              "r73nfwkJjEI53rnG5CYmQEnrNj4N0iJR37I+TjOAz+yGqDP21sr/f5sTGYyrRZoBW1PVLKBda/Iz\n",
              "j+iDdtmkeMxAcjqMPemFNe1H8xcRaUxG6sMi4uFb6fuGdoc4vlMs4ebl/H04lncwsVAWXaBcp9IV\n",
              "0fl6RksNTJZs7ITM9uXC2ZAarc/ggIGdxYHaxb1c67y0bskM6AqlYs1sunv2Nh//QvRwh5VxUBAj\n",
              "rbHzHgDAwgcIOeygVjZmHcyvXlBn4bQT+/cb01LpxYrq5aCHcH8wLeczIIDLvZTvpic1G8Tbk6OQ\n",
              "Jq6VnqRa2Ko4dM3SEUphtC2nUBDGeuVsw4w2jKcfckHk/oJeRCtskChe9zkv42YiKfGNO7QubXk2\n",
              "Ong4PEYtt6YrnWTqr0rWDhtnQskwIJ6t0R1pAJreTroSwbA1apqnAzgoMipn7IbWgkbqskHR8k5v\n",
              "oOJSZxf0nbM9fl9sk+C9PSOpbTbBZ8qAvLnA00ULWYmgEii8HsVBg8mByLZHn3MlL9F1TZxpnHmE\n",
              "drqn/4hwYBgZVD827ShP51ItQJyECaBilZwHe0dGR3acYA2M2zjP0yN5qClmGgaEM2ilCcuA7vHj\n",
              "kMjcblmizltlekFgyixlGiUXV3E66jilOlqnu6jJdCSgaFFA7JShyyClcRrBr/REdLDlXB9e2vnp\n",
              "u2vPtGiHQK+RsT3dNVlamM23zJWEpjihGtGOu5UY+2DI5RVL7s4ZexVw8bSC8qGPG/8Pv7gcuovB\n",
              "+R4wgixYJagyDVrNIgI0cjkwt5BBpARR8Ktrsunhpe0S+zqkf//uk+uwpyipYM1e6hhcEj81qun/\n",
              "PRNfP5N7F854G0plrNx3M4Udki9QNLks6yDOn7i3S77w19gcvA3g22jR1plMpMsVXmPhs0EMxE14\n",
              "T6/+NDFEBXU3u20eKddpnY4N7zyFwJvHG0LxkGLC5s7GKgBVOw0lmkG5RfaM1dqhHc8U1QVuF0x9\n",
              "FFp7Vtgh6rs83jVgPXITQ84fNrY9vvxnu185QF/U7GlNf01UijfbxcGvtCOtHnujjKCOiKxQ6/YP\n",
              "DD2lIW0zwTXxEfU5l2rbrwvbGxDzh9K9NlLmhvEjUn5K/VLG5WMpW24wBJWPP1Fq2wamRGubLHyA\n",
              "U15WvDtCYpdi6JC3p2Ev9zgx5kps+Nu70c11kTzU0s+mWIksgVd/jwYmUL63YlHVXChqSqn5ZGKL\n",
              "TAb7E7+7W9CYzsnGBd0mlKigpZ1PJp5sNhoU7X0YtmC/DNOQFwqxojezPvIxDCAcjHg3xhzqGD2g\n",
              "rkHYxZfRqKd9E7sZoLg1cScPDomalYvNkp8QlPM7x29cMlLctMs4lHKFI25pEAD4a7S2Pvb1uv1J\n",
              "ZmcBBe9btpfoksYlXw4AqMem11qyxHCSEpS9mpqLrzb0tLiLUuEMGCnqhCc3sjDXc2giAMF8+i7I\n",
              "m9A7hwgBxF5nUZvxDCr9Atd+Eyb1vz7E/Wq/S1Qdxm+fkfHosVdaPOMjVjrN4Bnavgh31tqNg1V8\n",
              "w8t/4XhmpoEbUGhzPMq+5+YLETTNGahwXZLpDEAVydV/YRwIkFsfcucoYS+0hkt1cC+au+yuzWJA\n",
              "li5q63jQXHfWiVJj/ZM/caVqXtCKsKg3ukOxDxJkP+XiV1Ujo7FkzR3Cdnvq18JcgsN1gNzfV8gz\n",
              "5WdOnQlhuxZG+ygSNXWBohDMeF/jOCk3gyNq9KGSFBalK2gdMuMnYKW8ZR829P8PRvgqvfI+4p/H\n",
              "kM/zM45QGwEo6hQCncjV5a/h4ptAc0Uft+hwGBVs7yYV4tDMUEUZYEVeA8kZOhSP5Y0niduouV82\n",
              "CZIJzJFCwEk5khJtdFpy6Z6ynfgmGxVooHv5HGNLPaSZwdbi5wrIzdEaOEq/tkPWM5TCGA5hBrNh\n",
              "fCog7RkfjIc1811sRq/fZaSISaWoQvviSY35wjNwohDBDR+hVUgDUWXkAb4Ic+2vLuYOIV0pNL21\n",
              "RabbBoQ/Er8QWlUwbk2WGnxJ7Se9vxqVi7wylRg79S3sJnAG3PeYEoux6LXZGHfGmuh+F2IYSgB2\n",
              "4bs7ZP4L5SskNbRLkGI/7kktrwHovRTRXBluGSvmuxBVICl4SUHn+tI2mQaXkV3a5gikPHdtPSxO\n",
              "15p2XzBH7CG50g6DF/Jabs6dgOUrEE/C3VGAl1rIAk0n0GSW6CXH4Y9vud4AuoyrahFR8K79+UFK\n",
              "RIlBJIAcCftxCt4eXf7uSm8bzsgP4CpYuUHODcQlD+KeSndR87VePZblYrwIdP84EI1Qxgf5EHSs\n",
              "PQDF22ZkIRfQXYptD89ZICZrZ+2KwouKbqfSHS1XQXc6hOyZXLvfm3hCsdS8XimQPpsYewtTQddV\n",
              "UXnR2jeo9yYQEvsJHmc97j3Ml7I/WVC8MbnpMS5pyO3smPT3WwYRYBwzw5QYTZ3MT4HuQ13EUmW/\n",
              "yCPNIPd93/ncQJfdWnUwapd1bWkg+Bng5wVIxnga9HPwQfN8+QLvn0h2FeXvZTrUlT10it7g94qo\n",
              "rF0C2fsim0+Wt5xRub6NgX/cij++6lU1dinD8qOVHomIPf1Zshzgm/sb7enD6w6ukLn2CkEp3BNU\n",
              "4c5K+sA50jO+kxMSxQvXbmHzFjm2UNE2UePZzPZlPAyU0Wc4P3ytffSuMDSnzY32Y8k/bNzRMQ1u\n",
              "ClFmOYivkmqw0HDB237mJrw6UCMvXIX5ojjuiFq7PW5/SiVw0K7uD2lm+ZWwtivT6LUEM3aU2vT5\n",
              "/pS50UJlR/MGzllFTVF31xZZZwxVaPcBaghWUQQi5iIz7xIH93r20uHDtvYGUj6yJhNtKVr9kwAP\n",
              "4f/rsCi6wK/OINWBlTpExbuSI4v+/C+fAjkmQqPqwYnyAAOWPCYjEb1LDShUkJlgS+mY7CSWS3Z3\n",
              "0gFqFo5yFwacWo9Hth0s1W93rVVoGQKbHdbwDQL8FvrwNkaFWTZ4+/CS8NVAjjzpOX80rLfX+QXz\n",
              "6a7blnPNPHkt7Z+2GsWR96J170hp9HhsAINAywxZPmSQf+ved5v9y23b7ohNNvzlxzZioUQMtdHW\n",
              "wfvbS4kSoFH6qPLY/QO5rcco+Q87+q+Zw10y0A70QxPf86kIyRvdJDyFH+E2lVHt+pgYf6VZ6tPf\n",
              "oie8MyzAAdNsxh8Tg17VU3/rbjFytLcmPpXjJvtwm67ivMvcUARLkQEyiAAAAwAOGQAAAP5BmiRs\n",
              "QU/+1oywA7rsDQBa9+DSpV+zzcuq+vxY1m8+4QDXtjja7sG6+lct0v3O8OGFzpZpryJietIzeRet\n",
              "OdWr4Ly4iEeDPDUjB5Z712iTTREUwUN5SrvPrl2gU3Lul9mxFdFZBNZMKt6YYrHq8JRtu/SwbpsJ\n",
              "eCTMrOVBCZm1iuZByp4nsSQgmPSmLawYYm7UxAsqRQS3DQQu4xw+sEv9qvp3y2ax8CT3CzZ0quqD\n",
              "46C/+9X+1QpIPLxdY9lQca8eUFMxdQhGaseJmLBU1DhzO9gyB6VTgAZxBY7XuUWv+zS2PyoGE+Yk\n",
              "0i0yDDdRsfbkCsy+Lvrb+r07FhRWQAAAACVBnkJ4gh8AElQ9qU5YfKwN6dq9PJ2JsTt4L/q0Vi7w\n",
              "+mPD+mshAAAAJAGeYXRD/wAowuAW3AQGa8AWqbd6yd24dPZK/drH/7MYryjSMAAAAAwBnmNqQ/8A\n",
              "AAMAVsEAAAAUQZpoSahBaJlMCCn//taMsAAAB90AAAATQZ6GRREsEP8AAAMAkrbJuJKw6wAAAAwB\n",
              "nqV0Q/8AAAMAVsEAAAAMAZ6nakP/AAADAFbAAAAAFEGarEmoQWyZTAgp//7WjLAAAAfcAAAAE0Ge\n",
              "ykUVLBD/AAADAJK2ybiSsOsAAAAMAZ7pdEP/AAADAFbAAAAADAGe62pD/wAAAwBWwAAAABRBmvBJ\n",
              "qEFsmUwIKf/+1oywAAAH3QAAABNBnw5FFSwQ/wAAAwCStsm4krDrAAAADAGfLXRD/wAAAwBWwQAA\n",
              "AAwBny9qQ/8AAAMAVsAAAAAUQZs0SahBbJlMCCn//taMsAAAB9wAAAATQZ9SRRUsEP8AAAMAkrbJ\n",
              "uJKw6wAAAAwBn3F0Q/8AAAMAVsAAAAAMAZ9zakP/AAADAFbAAAAAFEGbeEmoQWyZTAgp//7WjLAA\n",
              "AAfdAAAAE0GflkUVLBD/AAADAJK2ybiSsOsAAAAMAZ+1dEP/AAADAFbBAAAADAGft2pD/wAAAwBW\n",
              "wQAAABRBm7xJqEFsmUwIKf/+1oywAAAH3AAAABNBn9pFFSwQ/wAAAwCStsm4krDrAAAADAGf+XRD\n",
              "/wAAAwBWwAAAAAwBn/tqQ/8AAAMAVsEAAAAUQZvgSahBbJlMCCn//taMsAAAB90AAAATQZ4eRRUs\n",
              "EP8AAAMAkrbJuJKw6wAAAAwBnj10Q/8AAAMAVsAAAAAMAZ4/akP/AAADAFbBAAAAFEGaJEmoQWyZ\n",
              "TAgp//7WjLAAAAfcAAAAE0GeQkUVLBD/AAADAJK2ybiSsOsAAAAMAZ5hdEP/AAADAFbAAAAADAGe\n",
              "Y2pD/wAAAwBWwQAAABRBmmhJqEFsmUwIKf/+1oywAAAH3QAAABNBnoZFFSwQ/wAAAwCStsm4krDr\n",
              "AAAADAGepXRD/wAAAwBWwQAAAAwBnqdqQ/8AAAMAVsAAAAAUQZqsSahBbJlMCCn//taMsAAAB9wA\n",
              "AAATQZ7KRRUsEP8AAAMAkrbJuJKw6wAAAAwBnul0Q/8AAAMAVsAAAAAMAZ7rakP/AAADAFbAAAAA\n",
              "FEGa8EmoQWyZTAgp//7WjLAAAAfdAAAAE0GfDkUVLBD/AAADAJK2ybiSsOsAAAAMAZ8tdEP/AAAD\n",
              "AFbBAAAADAGfL2pD/wAAAwBWwAAAABRBmzRJqEFsmUwIKf/+1oywAAAH3AAAABNBn1JFFSwQ/wAA\n",
              "AwCStsm4krDrAAAADAGfcXRD/wAAAwBWwAAAAAwBn3NqQ/8AAAMAVsAAAAAUQZt4SahBbJlMCCn/\n",
              "/taMsAAAB90AAAATQZ+WRRUsEP8AAAMAkrbJuJKw6wAAAAwBn7V0Q/8AAAMAVsEAAAAMAZ+3akP/\n",
              "AAADAFbBAAAAFEGbvEmoQWyZTAgp//7WjLAAAAfcAAAAE0Gf2kUVLBD/AAADAJK2ybiSsOsAAAAM\n",
              "AZ/5dEP/AAADAFbAAAAADAGf+2pD/wAAAwBWwQAAABRBm+BJqEFsmUwIKf/+1oywAAAH3QAAABNB\n",
              "nh5FFSwQ/wAAAwCStsm4krDrAAAADAGePXRD/wAAAwBWwAAAAAwBnj9qQ/8AAAMAVsEAAAAUQZok\n",
              "SahBbJlMCCn//taMsAAAB9wAAAATQZ5CRRUsEP8AAAMAkrbJuJKw6wAAAAwBnmF0Q/8AAAMAVsAA\n",
              "AAAMAZ5jakP/AAADAFbBAAAAIkGaaEmoQWyZTAgp//7WjLAAOPBEQADgkp6mpuoRYFRck4EAAAAT\n",
              "QZ6GRRUsEP8AAAMAkrbJuJKw6wAAAAwBnqV0Q/8AAAMAVsEAAAAMAZ6nakP/AAADAFbAAAAAGUGa\n",
              "rEmoQWyZTAgp//7WjLAABvKlsyCgDLgAAAATQZ7KRRUsEP8AAAMAkrbJuJKw6wAAAAwBnul0Q/8A\n",
              "AAMAVsAAAAAMAZ7rakP/AAADAFbAAAAAIUGa8EmoQWyZTAgp//7WjLAAOPBEQACn2D1Mbaz1qbGs\n",
              "+QAAABNBnw5FFSwQ/wAAAwCStsm4krDrAAAADAGfLXRD/wAAAwBWwQAAAAwBny9qQ/8AAAMAVsAA\n",
              "AAAUQZs0SahBbJlMCCf//rUqgAAAHrAAAAATQZ9SRRUsEP8AAAMAkrbJuJKw6wAAAAwBn3F0Q/8A\n",
              "AAMAVsAAAAAMAZ9zakP/AAADAFbAAAAAFEGbeEmoQWyZTAgn//61KoAAAB6xAAAAE0GflkUVLBD/\n",
              "AAADAJK2ybiSsOsAAAAMAZ+1dEP/AAADAFbBAAAADAGft2pD/wAAAwBWwQAAABRBm7xJqEFsmUwI\n",
              "J//+tSqAAAAesAAAABNBn9pFFSwQ/wAAAwCStsm4krDrAAAADAGf+XRD/wAAAwBWwAAAAAwBn/tq\n",
              "Q/8AAAMAVsEAAAAUQZvgSahBbJlMCCX//rUqgAAAHrEAAAATQZ4eRRUsEP8AAAMAkrbJuJKw6wAA\n",
              "AAwBnj10Q/8AAAMAVsAAAAAMAZ4/akP/AAADAFbBAAAAFUGaI0moQWyZTAh///6plgAAAwDwgAAA\n",
              "ABNBnkFFFSwQ/wAAAwCStsm4krDrAAAADAGeYmpD/wAAAwBWwAAAB9Ztb292AAAAbG12aGQAAAAA\n",
              "AAAAAAAAAAAAAAPoAABOIAABAAABAAAAAAAAAAAAAAAAAQAAAAAAAAAAAAAAAAAAAAEAAAAAAAAA\n",
              "AAAAAAAAAEAAAAAAAAAAAAAAAAAAAAAAAAAAAAAAAAAAAAAAAAACAAAHAHRyYWsAAABcdGtoZAAA\n",
              "AAMAAAAAAAAAAAAAAAEAAAAAAABOIAAAAAAAAAAAAAAAAAAAAAAAAQAAAAAAAAAAAAAAAAAAAAEA\n",
              "AAAAAAAAAAAAAAAAAEAAAAABsAAAASAAAAAAACRlZHRzAAAAHGVsc3QAAAAAAAAAAQAATiAAABAA\n",
              "AAEAAAAABnhtZGlhAAAAIG1kaGQAAAAAAAAAAAAAAAAAACgAAAMgAFXEAAAAAAAtaGRscgAAAAAA\n",
              "AAAAdmlkZQAAAAAAAAAAAAAAAFZpZGVvSGFuZGxlcgAAAAYjbWluZgAAABR2bWhkAAAAAQAAAAAA\n",
              "AAAAAAAAJGRpbmYAAAAcZHJlZgAAAAAAAAABAAAADHVybCAAAAABAAAF43N0YmwAAACzc3RzZAAA\n",
              "AAAAAAABAAAAo2F2YzEAAAAAAAAAAQAAAAAAAAAAAAAAAAAAAAABsAEgAEgAAABIAAAAAAAAAAEA\n",
              "AAAAAAAAAAAAAAAAAAAAAAAAAAAAAAAAAAAAAAAAAAAY//8AAAAxYXZjQwFkABX/4QAYZ2QAFazZ\n",
              "QbCWhAAAAwAEAAADACg8WLZYAQAGaOvjyyLAAAAAHHV1aWRraEDyXyRPxbo5pRvPAyPzAAAAAAAA\n",
              "ABhzdHRzAAAAAAAAAAEAAABkAAAIAAAAABRzdHNzAAAAAAAAAAEAAAABAAADKGN0dHMAAAAAAAAA\n",
              "YwAAAAEAABAAAAAAAQAAKAAAAAABAAAQAAAAAAEAAAAAAAAAAQAACAAAAAABAAAoAAAAAAEAABAA\n",
              "AAAAAQAAAAAAAAABAAAIAAAAAAEAACgAAAAAAQAAEAAAAAABAAAAAAAAAAEAAAgAAAAAAQAAKAAA\n",
              "AAABAAAQAAAAAAEAAAAAAAAAAQAACAAAAAABAAAoAAAAAAEAABAAAAAAAQAAAAAAAAABAAAIAAAA\n",
              "AAEAACgAAAAAAQAAEAAAAAABAAAAAAAAAAEAAAgAAAAAAQAAKAAAAAABAAAQAAAAAAEAAAAAAAAA\n",
              "AQAACAAAAAABAAAoAAAAAAEAABAAAAAAAQAAAAAAAAABAAAIAAAAAAEAACgAAAAAAQAAEAAAAAAB\n",
              "AAAAAAAAAAEAAAgAAAAAAQAAKAAAAAABAAAQAAAAAAEAAAAAAAAAAQAACAAAAAABAAAoAAAAAAEA\n",
              "ABAAAAAAAQAAAAAAAAABAAAIAAAAAAEAACgAAAAAAQAAEAAAAAABAAAAAAAAAAEAAAgAAAAAAQAA\n",
              "KAAAAAABAAAQAAAAAAEAAAAAAAAAAQAACAAAAAABAAAoAAAAAAEAABAAAAAAAQAAAAAAAAABAAAI\n",
              "AAAAAAEAACgAAAAAAQAAEAAAAAABAAAAAAAAAAEAAAgAAAAAAQAAKAAAAAABAAAQAAAAAAEAAAAA\n",
              "AAAAAQAACAAAAAABAAAoAAAAAAEAABAAAAAAAQAAAAAAAAABAAAIAAAAAAEAACgAAAAAAQAAEAAA\n",
              "AAABAAAAAAAAAAEAAAgAAAAAAQAAKAAAAAABAAAQAAAAAAEAAAAAAAAAAQAACAAAAAABAAAoAAAA\n",
              "AAEAABAAAAAAAQAAAAAAAAABAAAIAAAAAAEAACgAAAAAAQAAEAAAAAABAAAAAAAAAAEAAAgAAAAA\n",
              "AQAAKAAAAAABAAAQAAAAAAEAAAAAAAAAAQAACAAAAAABAAAoAAAAAAEAABAAAAAAAQAAAAAAAAAB\n",
              "AAAIAAAAAAEAACgAAAAAAQAAEAAAAAABAAAAAAAAAAEAAAgAAAAAAQAAIAAAAAACAAAIAAAAABxz\n",
              "dHNjAAAAAAAAAAEAAAABAAAAZAAAAAEAAAGkc3RzegAAAAAAAAAAAAAAZAAAIk8AAAECAAAAKQAA\n",
              "ACgAAAAQAAAAGAAAABcAAAAQAAAAEAAAABgAAAAXAAAAEAAAABAAAAAYAAAAFwAAABAAAAAQAAAA\n",
              "GAAAABcAAAAQAAAAEAAAABgAAAAXAAAAEAAAABAAAAAYAAAAFwAAABAAAAAQAAAAGAAAABcAAAAQ\n",
              "AAAAEAAAABgAAAAXAAAAEAAAABAAAAAYAAAAFwAAABAAAAAQAAAAGAAAABcAAAAQAAAAEAAAABgA\n",
              "AAAXAAAAEAAAABAAAAAYAAAAFwAAABAAAAAQAAAAGAAAABcAAAAQAAAAEAAAABgAAAAXAAAAEAAA\n",
              "ABAAAAAYAAAAFwAAABAAAAAQAAAAGAAAABcAAAAQAAAAEAAAACYAAAAXAAAAEAAAABAAAAAdAAAA\n",
              "FwAAABAAAAAQAAAAJQAAABcAAAAQAAAAEAAAABgAAAAXAAAAEAAAABAAAAAYAAAAFwAAABAAAAAQ\n",
              "AAAAGAAAABcAAAAQAAAAEAAAABgAAAAXAAAAEAAAABAAAAAZAAAAFwAAABAAAAAUc3RjbwAAAAAA\n",
              "AAABAAAALAAAAGJ1ZHRhAAAAWm1ldGEAAAAAAAAAIWhkbHIAAAAAAAAAAG1kaXJhcHBsAAAAAAAA\n",
              "AAAAAAAALWlsc3QAAAAlqXRvbwAAAB1kYXRhAAAAAQAAAABMYXZmNTcuODMuMTAw\n",
              "\">\n",
              "  Your browser does not support the video tag.\n",
              "</video>"
            ],
            "text/plain": [
              "<IPython.core.display.HTML object>"
            ]
          },
          "metadata": {
            "tags": []
          },
          "execution_count": 313
        }
      ]
    },
    {
      "cell_type": "code",
      "metadata": {
        "id": "QyimFysqfk6I",
        "colab_type": "code",
        "colab": {}
      },
      "source": [
        ""
      ],
      "execution_count": 0,
      "outputs": []
    }
  ]
}